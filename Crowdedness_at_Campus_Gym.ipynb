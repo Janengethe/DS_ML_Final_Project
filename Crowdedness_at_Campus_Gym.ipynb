{
 "cells": [
  {
   "cell_type": "markdown",
   "id": "4a2e2d89-6db1-483a-bb44-803a6b9942ed",
   "metadata": {},
   "source": [
    "<span style=\"font-size: 40px; color: Red\">Problem Statement</span>"
   ]
  },
  {
   "cell_type": "markdown",
   "id": "15485870-3883-46fa-9133-ad54a99dac30",
   "metadata": {},
   "source": [
    "\n",
    "## Problem Definition\n",
    "* The goal of this project is to develop a class attendance predictor for gym classes, leveraging historical attendance data and relevant features. The predictor will assist gym management in estimating the number of participants likely to attend a given class. By utilizing machine learning techniques, the project aims to provide accurate attendance predictions that can facilitate resource allocation, class scheduling, and overall gym operation optimization.\n"
   ]
  },
  {
   "cell_type": "markdown",
   "id": "013f61b9-923a-47aa-a778-473bf71551f5",
   "metadata": {},
   "source": [
    "## Data Source\n",
    "https://www.kaggle.com/datasets/nithilaa/fitness-analysis"
   ]
  },
  {
   "cell_type": "markdown",
   "id": "251f93ab-a20d-4eb4-bce1-a27e8c2ad544",
   "metadata": {},
   "source": [
    "<span style=\"font-size: 30px; color: Green\">Importing Libaries</span>"
   ]
  },
  {
   "cell_type": "code",
   "execution_count": 45,
   "id": "a5083a5c-6760-45f4-a7b3-b6d3709becf0",
   "metadata": {},
   "outputs": [],
   "source": [
    "import pandas as pd\n",
    "import numpy as np\n",
    "import matplotlib.pyplot as plt\n",
    "import plotly.express as px\n",
    "from sklearn.preprocessing import LabelEncoder, MinMaxScaler, PolynomialFeatures\n",
    "from sklearn.model_selection import train_test_split, GridSearchCV, RandomizedSearchCV, KFold\n",
    "from sklearn.linear_model import LinearRegression, Ridge, Lasso\n",
    "from sklearn.metrics import mean_absolute_error, mean_squared_error, r2_score\n",
    "from sklearn.svm import SVR\n",
    "from sklearn.tree import DecisionTreeRegressor\n",
    "from sklearn.ensemble import RandomForestRegressor\n",
    "\n",
    "import joblib"
   ]
  },
  {
   "cell_type": "markdown",
   "id": "8525ea79-74be-4ae4-8899-a596562b7f66",
   "metadata": {},
   "source": [
    "<span style=\"font-size: 30px; color: Green\">Loading the Dataset</span>"
   ]
  },
  {
   "cell_type": "code",
   "execution_count": 2,
   "id": "13c9ff54-36a8-480b-9353-4b4eb72cc16c",
   "metadata": {},
   "outputs": [],
   "source": [
    "df = pd.read_csv(\"Crowdedness_at_Campus_Gym.csv\")"
   ]
  },
  {
   "cell_type": "markdown",
   "id": "597a3334-8781-43d7-ac6a-57bd7bf95458",
   "metadata": {},
   "source": [
    "<span style=\"font-size: 30px; color: Green\">Data Preprocessing</span>"
   ]
  },
  {
   "cell_type": "markdown",
   "id": "d5f7839c-7763-4b7b-8e54-c292d05d3b02",
   "metadata": {},
   "source": [
    "### a). Data Inspection"
   ]
  },
  {
   "cell_type": "code",
   "execution_count": 3,
   "id": "8faf7e31-d3bc-467f-9b1e-9f4501efd27c",
   "metadata": {},
   "outputs": [
    {
     "data": {
      "text/html": [
       "<div>\n",
       "<style scoped>\n",
       "    .dataframe tbody tr th:only-of-type {\n",
       "        vertical-align: middle;\n",
       "    }\n",
       "\n",
       "    .dataframe tbody tr th {\n",
       "        vertical-align: top;\n",
       "    }\n",
       "\n",
       "    .dataframe thead th {\n",
       "        text-align: right;\n",
       "    }\n",
       "</style>\n",
       "<table border=\"1\" class=\"dataframe\">\n",
       "  <thead>\n",
       "    <tr style=\"text-align: right;\">\n",
       "      <th></th>\n",
       "      <th>number_people</th>\n",
       "      <th>date</th>\n",
       "      <th>timestamp</th>\n",
       "      <th>day_of_week</th>\n",
       "      <th>is_weekend</th>\n",
       "      <th>is_holiday</th>\n",
       "      <th>temperature</th>\n",
       "      <th>is_start_of_semester</th>\n",
       "      <th>is_during_semester</th>\n",
       "      <th>month</th>\n",
       "      <th>hour</th>\n",
       "    </tr>\n",
       "  </thead>\n",
       "  <tbody>\n",
       "    <tr>\n",
       "      <th>0</th>\n",
       "      <td>37</td>\n",
       "      <td>2015-08-14 17:00:11-07:00</td>\n",
       "      <td>61211</td>\n",
       "      <td>4</td>\n",
       "      <td>0</td>\n",
       "      <td>0</td>\n",
       "      <td>71.76</td>\n",
       "      <td>0</td>\n",
       "      <td>0</td>\n",
       "      <td>8</td>\n",
       "      <td>17</td>\n",
       "    </tr>\n",
       "    <tr>\n",
       "      <th>1</th>\n",
       "      <td>45</td>\n",
       "      <td>2015-08-14 17:20:14-07:00</td>\n",
       "      <td>62414</td>\n",
       "      <td>4</td>\n",
       "      <td>0</td>\n",
       "      <td>0</td>\n",
       "      <td>71.76</td>\n",
       "      <td>0</td>\n",
       "      <td>0</td>\n",
       "      <td>8</td>\n",
       "      <td>17</td>\n",
       "    </tr>\n",
       "    <tr>\n",
       "      <th>2</th>\n",
       "      <td>40</td>\n",
       "      <td>2015-08-14 17:30:15-07:00</td>\n",
       "      <td>63015</td>\n",
       "      <td>4</td>\n",
       "      <td>0</td>\n",
       "      <td>0</td>\n",
       "      <td>71.76</td>\n",
       "      <td>0</td>\n",
       "      <td>0</td>\n",
       "      <td>8</td>\n",
       "      <td>17</td>\n",
       "    </tr>\n",
       "  </tbody>\n",
       "</table>\n",
       "</div>"
      ],
      "text/plain": [
       "   number_people                       date  timestamp  day_of_week  \\\n",
       "0             37  2015-08-14 17:00:11-07:00      61211            4   \n",
       "1             45  2015-08-14 17:20:14-07:00      62414            4   \n",
       "2             40  2015-08-14 17:30:15-07:00      63015            4   \n",
       "\n",
       "   is_weekend  is_holiday  temperature  is_start_of_semester  \\\n",
       "0           0           0        71.76                     0   \n",
       "1           0           0        71.76                     0   \n",
       "2           0           0        71.76                     0   \n",
       "\n",
       "   is_during_semester  month  hour  \n",
       "0                   0      8    17  \n",
       "1                   0      8    17  \n",
       "2                   0      8    17  "
      ]
     },
     "execution_count": 3,
     "metadata": {},
     "output_type": "execute_result"
    }
   ],
   "source": [
    "df.head(3)"
   ]
  },
  {
   "cell_type": "code",
   "execution_count": 4,
   "id": "f8a29e79-65c3-4cc7-856a-83b0e47a43c5",
   "metadata": {},
   "outputs": [
    {
     "data": {
      "text/plain": [
       "(62184, 11)"
      ]
     },
     "execution_count": 4,
     "metadata": {},
     "output_type": "execute_result"
    }
   ],
   "source": [
    "# rows and columns( or no. of records)\n",
    "df.shape"
   ]
  },
  {
   "cell_type": "code",
   "execution_count": null,
   "id": "b1f06fca-82bb-4601-ad0b-51cb3ce4a363",
   "metadata": {},
   "outputs": [],
   "source": [
    "df.hist(figsize=(12, 10))\n",
    "plt.show()"
   ]
  },
  {
   "cell_type": "code",
   "execution_count": 5,
   "id": "1d624948-e734-45b5-aeeb-8cdddfa09e22",
   "metadata": {},
   "outputs": [
    {
     "name": "stdout",
     "output_type": "stream",
     "text": [
      "<class 'pandas.core.frame.DataFrame'>\n",
      "RangeIndex: 62184 entries, 0 to 62183\n",
      "Data columns (total 11 columns):\n",
      " #   Column                Non-Null Count  Dtype  \n",
      "---  ------                --------------  -----  \n",
      " 0   number_people         62184 non-null  int64  \n",
      " 1   date                  62184 non-null  object \n",
      " 2   timestamp             62184 non-null  int64  \n",
      " 3   day_of_week           62184 non-null  int64  \n",
      " 4   is_weekend            62184 non-null  int64  \n",
      " 5   is_holiday            62184 non-null  int64  \n",
      " 6   temperature           62184 non-null  float64\n",
      " 7   is_start_of_semester  62184 non-null  int64  \n",
      " 8   is_during_semester    62184 non-null  int64  \n",
      " 9   month                 62184 non-null  int64  \n",
      " 10  hour                  62184 non-null  int64  \n",
      "dtypes: float64(1), int64(9), object(1)\n",
      "memory usage: 5.2+ MB\n"
     ]
    }
   ],
   "source": [
    "df.info()"
   ]
  },
  {
   "cell_type": "code",
   "execution_count": 6,
   "id": "655ee8f3-1524-4da5-8a7a-0512fa757b4c",
   "metadata": {},
   "outputs": [
    {
     "data": {
      "text/html": [
       "<div>\n",
       "<style scoped>\n",
       "    .dataframe tbody tr th:only-of-type {\n",
       "        vertical-align: middle;\n",
       "    }\n",
       "\n",
       "    .dataframe tbody tr th {\n",
       "        vertical-align: top;\n",
       "    }\n",
       "\n",
       "    .dataframe thead th {\n",
       "        text-align: right;\n",
       "    }\n",
       "</style>\n",
       "<table border=\"1\" class=\"dataframe\">\n",
       "  <thead>\n",
       "    <tr style=\"text-align: right;\">\n",
       "      <th></th>\n",
       "      <th>number_people</th>\n",
       "      <th>timestamp</th>\n",
       "      <th>day_of_week</th>\n",
       "      <th>is_weekend</th>\n",
       "      <th>is_holiday</th>\n",
       "      <th>temperature</th>\n",
       "      <th>is_start_of_semester</th>\n",
       "      <th>is_during_semester</th>\n",
       "      <th>month</th>\n",
       "      <th>hour</th>\n",
       "    </tr>\n",
       "  </thead>\n",
       "  <tbody>\n",
       "    <tr>\n",
       "      <th>count</th>\n",
       "      <td>62184.000000</td>\n",
       "      <td>62184.000000</td>\n",
       "      <td>62184.000000</td>\n",
       "      <td>62184.000000</td>\n",
       "      <td>62184.000000</td>\n",
       "      <td>62184.000000</td>\n",
       "      <td>62184.000000</td>\n",
       "      <td>62184.000000</td>\n",
       "      <td>62184.000000</td>\n",
       "      <td>62184.000000</td>\n",
       "    </tr>\n",
       "    <tr>\n",
       "      <th>mean</th>\n",
       "      <td>29.072543</td>\n",
       "      <td>45799.437958</td>\n",
       "      <td>2.982504</td>\n",
       "      <td>0.282870</td>\n",
       "      <td>0.002573</td>\n",
       "      <td>58.557108</td>\n",
       "      <td>0.078831</td>\n",
       "      <td>0.660218</td>\n",
       "      <td>7.439824</td>\n",
       "      <td>12.236460</td>\n",
       "    </tr>\n",
       "    <tr>\n",
       "      <th>std</th>\n",
       "      <td>22.689026</td>\n",
       "      <td>24211.275891</td>\n",
       "      <td>1.996825</td>\n",
       "      <td>0.450398</td>\n",
       "      <td>0.050660</td>\n",
       "      <td>6.316396</td>\n",
       "      <td>0.269476</td>\n",
       "      <td>0.473639</td>\n",
       "      <td>3.445069</td>\n",
       "      <td>6.717631</td>\n",
       "    </tr>\n",
       "    <tr>\n",
       "      <th>min</th>\n",
       "      <td>0.000000</td>\n",
       "      <td>0.000000</td>\n",
       "      <td>0.000000</td>\n",
       "      <td>0.000000</td>\n",
       "      <td>0.000000</td>\n",
       "      <td>38.140000</td>\n",
       "      <td>0.000000</td>\n",
       "      <td>0.000000</td>\n",
       "      <td>1.000000</td>\n",
       "      <td>0.000000</td>\n",
       "    </tr>\n",
       "    <tr>\n",
       "      <th>25%</th>\n",
       "      <td>9.000000</td>\n",
       "      <td>26624.000000</td>\n",
       "      <td>1.000000</td>\n",
       "      <td>0.000000</td>\n",
       "      <td>0.000000</td>\n",
       "      <td>55.000000</td>\n",
       "      <td>0.000000</td>\n",
       "      <td>0.000000</td>\n",
       "      <td>5.000000</td>\n",
       "      <td>7.000000</td>\n",
       "    </tr>\n",
       "    <tr>\n",
       "      <th>50%</th>\n",
       "      <td>28.000000</td>\n",
       "      <td>46522.500000</td>\n",
       "      <td>3.000000</td>\n",
       "      <td>0.000000</td>\n",
       "      <td>0.000000</td>\n",
       "      <td>58.340000</td>\n",
       "      <td>0.000000</td>\n",
       "      <td>1.000000</td>\n",
       "      <td>8.000000</td>\n",
       "      <td>12.000000</td>\n",
       "    </tr>\n",
       "    <tr>\n",
       "      <th>75%</th>\n",
       "      <td>43.000000</td>\n",
       "      <td>66612.000000</td>\n",
       "      <td>5.000000</td>\n",
       "      <td>1.000000</td>\n",
       "      <td>0.000000</td>\n",
       "      <td>62.280000</td>\n",
       "      <td>0.000000</td>\n",
       "      <td>1.000000</td>\n",
       "      <td>10.000000</td>\n",
       "      <td>18.000000</td>\n",
       "    </tr>\n",
       "    <tr>\n",
       "      <th>max</th>\n",
       "      <td>145.000000</td>\n",
       "      <td>86399.000000</td>\n",
       "      <td>6.000000</td>\n",
       "      <td>1.000000</td>\n",
       "      <td>1.000000</td>\n",
       "      <td>87.170000</td>\n",
       "      <td>1.000000</td>\n",
       "      <td>1.000000</td>\n",
       "      <td>12.000000</td>\n",
       "      <td>23.000000</td>\n",
       "    </tr>\n",
       "  </tbody>\n",
       "</table>\n",
       "</div>"
      ],
      "text/plain": [
       "       number_people     timestamp   day_of_week    is_weekend    is_holiday  \\\n",
       "count   62184.000000  62184.000000  62184.000000  62184.000000  62184.000000   \n",
       "mean       29.072543  45799.437958      2.982504      0.282870      0.002573   \n",
       "std        22.689026  24211.275891      1.996825      0.450398      0.050660   \n",
       "min         0.000000      0.000000      0.000000      0.000000      0.000000   \n",
       "25%         9.000000  26624.000000      1.000000      0.000000      0.000000   \n",
       "50%        28.000000  46522.500000      3.000000      0.000000      0.000000   \n",
       "75%        43.000000  66612.000000      5.000000      1.000000      0.000000   \n",
       "max       145.000000  86399.000000      6.000000      1.000000      1.000000   \n",
       "\n",
       "        temperature  is_start_of_semester  is_during_semester         month  \\\n",
       "count  62184.000000          62184.000000        62184.000000  62184.000000   \n",
       "mean      58.557108              0.078831            0.660218      7.439824   \n",
       "std        6.316396              0.269476            0.473639      3.445069   \n",
       "min       38.140000              0.000000            0.000000      1.000000   \n",
       "25%       55.000000              0.000000            0.000000      5.000000   \n",
       "50%       58.340000              0.000000            1.000000      8.000000   \n",
       "75%       62.280000              0.000000            1.000000     10.000000   \n",
       "max       87.170000              1.000000            1.000000     12.000000   \n",
       "\n",
       "               hour  \n",
       "count  62184.000000  \n",
       "mean      12.236460  \n",
       "std        6.717631  \n",
       "min        0.000000  \n",
       "25%        7.000000  \n",
       "50%       12.000000  \n",
       "75%       18.000000  \n",
       "max       23.000000  "
      ]
     },
     "execution_count": 6,
     "metadata": {},
     "output_type": "execute_result"
    }
   ],
   "source": [
    "df.describe()"
   ]
  },
  {
   "cell_type": "markdown",
   "id": "165d7de9-6107-4a3e-b6ff-611777db2dc6",
   "metadata": {},
   "source": [
    "### b). Data Cleaning"
   ]
  },
  {
   "cell_type": "code",
   "execution_count": 7,
   "id": "c1914c4f-5adb-4649-9b6e-7aef679ff88f",
   "metadata": {},
   "outputs": [
    {
     "data": {
      "text/html": [
       "<div>\n",
       "<style scoped>\n",
       "    .dataframe tbody tr th:only-of-type {\n",
       "        vertical-align: middle;\n",
       "    }\n",
       "\n",
       "    .dataframe tbody tr th {\n",
       "        vertical-align: top;\n",
       "    }\n",
       "\n",
       "    .dataframe thead th {\n",
       "        text-align: right;\n",
       "    }\n",
       "</style>\n",
       "<table border=\"1\" class=\"dataframe\">\n",
       "  <thead>\n",
       "    <tr style=\"text-align: right;\">\n",
       "      <th></th>\n",
       "      <th>number_people</th>\n",
       "      <th>date</th>\n",
       "      <th>timestamp</th>\n",
       "      <th>day_of_week</th>\n",
       "      <th>is_weekend</th>\n",
       "      <th>is_holiday</th>\n",
       "      <th>temperature</th>\n",
       "      <th>is_start_of_semester</th>\n",
       "      <th>is_during_semester</th>\n",
       "      <th>month</th>\n",
       "      <th>hour</th>\n",
       "    </tr>\n",
       "  </thead>\n",
       "  <tbody>\n",
       "  </tbody>\n",
       "</table>\n",
       "</div>"
      ],
      "text/plain": [
       "Empty DataFrame\n",
       "Columns: [number_people, date, timestamp, day_of_week, is_weekend, is_holiday, temperature, is_start_of_semester, is_during_semester, month, hour]\n",
       "Index: []"
      ]
     },
     "execution_count": 7,
     "metadata": {},
     "output_type": "execute_result"
    }
   ],
   "source": [
    "# Checking for dublicate rows\n",
    "duplicate_rows = df[df.duplicated()]\n",
    "duplicate_rows"
   ]
  },
  {
   "cell_type": "code",
   "execution_count": 8,
   "id": "85a4f313-2416-4819-8b5a-d4f9ebe24573",
   "metadata": {},
   "outputs": [
    {
     "name": "stdout",
     "output_type": "stream",
     "text": [
      "<class 'pandas.core.frame.DataFrame'>\n",
      "RangeIndex: 62184 entries, 0 to 62183\n",
      "Data columns (total 11 columns):\n",
      " #   Column                Non-Null Count  Dtype  \n",
      "---  ------                --------------  -----  \n",
      " 0   number_people         62184 non-null  int64  \n",
      " 1   date                  62184 non-null  object \n",
      " 2   timestamp             62184 non-null  int64  \n",
      " 3   day_of_week           62184 non-null  int64  \n",
      " 4   is_weekend            62184 non-null  int64  \n",
      " 5   is_holiday            62184 non-null  int64  \n",
      " 6   temperature           62184 non-null  float64\n",
      " 7   is_start_of_semester  62184 non-null  int64  \n",
      " 8   is_during_semester    62184 non-null  int64  \n",
      " 9   month                 62184 non-null  int64  \n",
      " 10  hour                  62184 non-null  int64  \n",
      "dtypes: float64(1), int64(9), object(1)\n",
      "memory usage: 5.2+ MB\n"
     ]
    }
   ],
   "source": [
    "df.info()"
   ]
  },
  {
   "cell_type": "code",
   "execution_count": 9,
   "id": "b936fdf4-2e97-46b5-ace2-22a57c7a6d41",
   "metadata": {},
   "outputs": [
    {
     "data": {
      "text/html": [
       "<div>\n",
       "<style scoped>\n",
       "    .dataframe tbody tr th:only-of-type {\n",
       "        vertical-align: middle;\n",
       "    }\n",
       "\n",
       "    .dataframe tbody tr th {\n",
       "        vertical-align: top;\n",
       "    }\n",
       "\n",
       "    .dataframe thead th {\n",
       "        text-align: right;\n",
       "    }\n",
       "</style>\n",
       "<table border=\"1\" class=\"dataframe\">\n",
       "  <thead>\n",
       "    <tr style=\"text-align: right;\">\n",
       "      <th></th>\n",
       "      <th>number_people</th>\n",
       "      <th>date</th>\n",
       "      <th>timestamp</th>\n",
       "      <th>day_of_week</th>\n",
       "      <th>is_weekend</th>\n",
       "      <th>is_holiday</th>\n",
       "      <th>temperature</th>\n",
       "      <th>is_start_of_semester</th>\n",
       "      <th>is_during_semester</th>\n",
       "      <th>month</th>\n",
       "      <th>hour</th>\n",
       "    </tr>\n",
       "  </thead>\n",
       "  <tbody>\n",
       "    <tr>\n",
       "      <th>0</th>\n",
       "      <td>37</td>\n",
       "      <td>2015-08-14 17:00:11-07:00</td>\n",
       "      <td>61211</td>\n",
       "      <td>4</td>\n",
       "      <td>0</td>\n",
       "      <td>0</td>\n",
       "      <td>71.76</td>\n",
       "      <td>0</td>\n",
       "      <td>0</td>\n",
       "      <td>8</td>\n",
       "      <td>17</td>\n",
       "    </tr>\n",
       "    <tr>\n",
       "      <th>1</th>\n",
       "      <td>45</td>\n",
       "      <td>2015-08-14 17:20:14-07:00</td>\n",
       "      <td>62414</td>\n",
       "      <td>4</td>\n",
       "      <td>0</td>\n",
       "      <td>0</td>\n",
       "      <td>71.76</td>\n",
       "      <td>0</td>\n",
       "      <td>0</td>\n",
       "      <td>8</td>\n",
       "      <td>17</td>\n",
       "    </tr>\n",
       "  </tbody>\n",
       "</table>\n",
       "</div>"
      ],
      "text/plain": [
       "   number_people                       date  timestamp  day_of_week  \\\n",
       "0             37  2015-08-14 17:00:11-07:00      61211            4   \n",
       "1             45  2015-08-14 17:20:14-07:00      62414            4   \n",
       "\n",
       "   is_weekend  is_holiday  temperature  is_start_of_semester  \\\n",
       "0           0           0        71.76                     0   \n",
       "1           0           0        71.76                     0   \n",
       "\n",
       "   is_during_semester  month  hour  \n",
       "0                   0      8    17  \n",
       "1                   0      8    17  "
      ]
     },
     "execution_count": 9,
     "metadata": {},
     "output_type": "execute_result"
    }
   ],
   "source": [
    "df.head(2)"
   ]
  },
  {
   "cell_type": "markdown",
   "id": "b30e458b-16c5-4f9d-8262-dfdcaa8880a1",
   "metadata": {},
   "source": [
    "### C). Feature Engineering"
   ]
  },
  {
   "cell_type": "code",
   "execution_count": 10,
   "id": "9a48271b-a063-4e79-bc1b-17d6e81cc739",
   "metadata": {},
   "outputs": [],
   "source": [
    "# Column Year consisting of Year alone\n",
    "# df['Year'] = df['date'].str[:4]\n",
    "\n",
    "# Column Date consisting of Date of the month alone\n",
    "df['Date'] = df['date'].str[8:11]\n",
    "\n",
    "# Column Time\n",
    "df['minutes'] = df['date'].str[14:-9]"
   ]
  },
  {
   "cell_type": "code",
   "execution_count": 11,
   "id": "a1000def-c4a1-43fe-a79b-e858205586a9",
   "metadata": {},
   "outputs": [
    {
     "name": "stdout",
     "output_type": "stream",
     "text": [
      "<class 'pandas.core.frame.DataFrame'>\n",
      "RangeIndex: 62184 entries, 0 to 62183\n",
      "Data columns (total 13 columns):\n",
      " #   Column                Non-Null Count  Dtype  \n",
      "---  ------                --------------  -----  \n",
      " 0   number_people         62184 non-null  int64  \n",
      " 1   date                  62184 non-null  object \n",
      " 2   timestamp             62184 non-null  int64  \n",
      " 3   day_of_week           62184 non-null  int64  \n",
      " 4   is_weekend            62184 non-null  int64  \n",
      " 5   is_holiday            62184 non-null  int64  \n",
      " 6   temperature           62184 non-null  float64\n",
      " 7   is_start_of_semester  62184 non-null  int64  \n",
      " 8   is_during_semester    62184 non-null  int64  \n",
      " 9   month                 62184 non-null  int64  \n",
      " 10  hour                  62184 non-null  int64  \n",
      " 11  Date                  62184 non-null  object \n",
      " 12  minutes               62184 non-null  object \n",
      "dtypes: float64(1), int64(9), object(3)\n",
      "memory usage: 6.2+ MB\n"
     ]
    }
   ],
   "source": [
    "df.info()"
   ]
  },
  {
   "cell_type": "code",
   "execution_count": 12,
   "id": "245c5030-cba8-4cf6-801e-0caee87a556d",
   "metadata": {},
   "outputs": [
    {
     "data": {
      "text/html": [
       "<div>\n",
       "<style scoped>\n",
       "    .dataframe tbody tr th:only-of-type {\n",
       "        vertical-align: middle;\n",
       "    }\n",
       "\n",
       "    .dataframe tbody tr th {\n",
       "        vertical-align: top;\n",
       "    }\n",
       "\n",
       "    .dataframe thead th {\n",
       "        text-align: right;\n",
       "    }\n",
       "</style>\n",
       "<table border=\"1\" class=\"dataframe\">\n",
       "  <thead>\n",
       "    <tr style=\"text-align: right;\">\n",
       "      <th></th>\n",
       "      <th>number_people</th>\n",
       "      <th>date</th>\n",
       "      <th>timestamp</th>\n",
       "      <th>day_of_week</th>\n",
       "      <th>is_weekend</th>\n",
       "      <th>is_holiday</th>\n",
       "      <th>temperature</th>\n",
       "      <th>is_start_of_semester</th>\n",
       "      <th>is_during_semester</th>\n",
       "      <th>month</th>\n",
       "      <th>hour</th>\n",
       "      <th>Date</th>\n",
       "      <th>minutes</th>\n",
       "    </tr>\n",
       "  </thead>\n",
       "  <tbody>\n",
       "    <tr>\n",
       "      <th>0</th>\n",
       "      <td>37</td>\n",
       "      <td>2015-08-14 17:00:11-07:00</td>\n",
       "      <td>61211</td>\n",
       "      <td>4</td>\n",
       "      <td>0</td>\n",
       "      <td>0</td>\n",
       "      <td>71.76</td>\n",
       "      <td>0</td>\n",
       "      <td>0</td>\n",
       "      <td>8</td>\n",
       "      <td>17</td>\n",
       "      <td>14</td>\n",
       "      <td>00</td>\n",
       "    </tr>\n",
       "    <tr>\n",
       "      <th>1</th>\n",
       "      <td>45</td>\n",
       "      <td>2015-08-14 17:20:14-07:00</td>\n",
       "      <td>62414</td>\n",
       "      <td>4</td>\n",
       "      <td>0</td>\n",
       "      <td>0</td>\n",
       "      <td>71.76</td>\n",
       "      <td>0</td>\n",
       "      <td>0</td>\n",
       "      <td>8</td>\n",
       "      <td>17</td>\n",
       "      <td>14</td>\n",
       "      <td>20</td>\n",
       "    </tr>\n",
       "  </tbody>\n",
       "</table>\n",
       "</div>"
      ],
      "text/plain": [
       "   number_people                       date  timestamp  day_of_week  \\\n",
       "0             37  2015-08-14 17:00:11-07:00      61211            4   \n",
       "1             45  2015-08-14 17:20:14-07:00      62414            4   \n",
       "\n",
       "   is_weekend  is_holiday  temperature  is_start_of_semester  \\\n",
       "0           0           0        71.76                     0   \n",
       "1           0           0        71.76                     0   \n",
       "\n",
       "   is_during_semester  month  hour Date minutes  \n",
       "0                   0      8    17  14       00  \n",
       "1                   0      8    17  14       20  "
      ]
     },
     "execution_count": 12,
     "metadata": {},
     "output_type": "execute_result"
    }
   ],
   "source": [
    "df.head(2)"
   ]
  },
  {
   "cell_type": "code",
   "execution_count": 13,
   "id": "56be5a15-dda0-43a0-b1ff-4ea00375e357",
   "metadata": {},
   "outputs": [],
   "source": [
    "# Drop columns\n",
    "df = df.drop(columns=[\"date\",\"timestamp\"], axis=1)"
   ]
  },
  {
   "cell_type": "code",
   "execution_count": 14,
   "id": "352996a4-1430-4c3f-a1d6-da95c907d2c8",
   "metadata": {},
   "outputs": [
    {
     "data": {
      "text/html": [
       "<div>\n",
       "<style scoped>\n",
       "    .dataframe tbody tr th:only-of-type {\n",
       "        vertical-align: middle;\n",
       "    }\n",
       "\n",
       "    .dataframe tbody tr th {\n",
       "        vertical-align: top;\n",
       "    }\n",
       "\n",
       "    .dataframe thead th {\n",
       "        text-align: right;\n",
       "    }\n",
       "</style>\n",
       "<table border=\"1\" class=\"dataframe\">\n",
       "  <thead>\n",
       "    <tr style=\"text-align: right;\">\n",
       "      <th></th>\n",
       "      <th>number_people</th>\n",
       "      <th>day_of_week</th>\n",
       "      <th>is_weekend</th>\n",
       "      <th>is_holiday</th>\n",
       "      <th>temperature</th>\n",
       "      <th>is_start_of_semester</th>\n",
       "      <th>is_during_semester</th>\n",
       "      <th>month</th>\n",
       "      <th>hour</th>\n",
       "      <th>Date</th>\n",
       "      <th>minutes</th>\n",
       "    </tr>\n",
       "  </thead>\n",
       "  <tbody>\n",
       "    <tr>\n",
       "      <th>0</th>\n",
       "      <td>37</td>\n",
       "      <td>4</td>\n",
       "      <td>0</td>\n",
       "      <td>0</td>\n",
       "      <td>71.76</td>\n",
       "      <td>0</td>\n",
       "      <td>0</td>\n",
       "      <td>8</td>\n",
       "      <td>17</td>\n",
       "      <td>14</td>\n",
       "      <td>00</td>\n",
       "    </tr>\n",
       "    <tr>\n",
       "      <th>1</th>\n",
       "      <td>45</td>\n",
       "      <td>4</td>\n",
       "      <td>0</td>\n",
       "      <td>0</td>\n",
       "      <td>71.76</td>\n",
       "      <td>0</td>\n",
       "      <td>0</td>\n",
       "      <td>8</td>\n",
       "      <td>17</td>\n",
       "      <td>14</td>\n",
       "      <td>20</td>\n",
       "    </tr>\n",
       "  </tbody>\n",
       "</table>\n",
       "</div>"
      ],
      "text/plain": [
       "   number_people  day_of_week  is_weekend  is_holiday  temperature  \\\n",
       "0             37            4           0           0        71.76   \n",
       "1             45            4           0           0        71.76   \n",
       "\n",
       "   is_start_of_semester  is_during_semester  month  hour Date minutes  \n",
       "0                     0                   0      8    17  14       00  \n",
       "1                     0                   0      8    17  14       20  "
      ]
     },
     "execution_count": 14,
     "metadata": {},
     "output_type": "execute_result"
    }
   ],
   "source": [
    "df.head(2)"
   ]
  },
  {
   "cell_type": "code",
   "execution_count": null,
   "id": "5353f1c1-959e-4424-88f2-2be5c1f0edbf",
   "metadata": {},
   "outputs": [],
   "source": []
  },
  {
   "cell_type": "code",
   "execution_count": 15,
   "id": "ab957144-42b6-45f7-8475-ac8cb81ff881",
   "metadata": {},
   "outputs": [],
   "source": [
    "# Rearrange the columns\n",
    "columns = [\"month\", \"Date\", \"day_of_week\", \"hour\", \"minutes\", \"temperature\", \"is_weekend\", \"is_holiday\", \"is_start_of_semester\", \"is_during_semester\", \"number_people\"]\n",
    "df = df[columns]"
   ]
  },
  {
   "cell_type": "code",
   "execution_count": 16,
   "id": "273b4e0b-a2db-49e3-9405-3d3e1b5fc08e",
   "metadata": {},
   "outputs": [],
   "source": [
    "# Rename columns\n",
    "df.columns = [cols.capitalize() for cols in df.columns]"
   ]
  },
  {
   "cell_type": "code",
   "execution_count": 17,
   "id": "aeae4d8d-375d-4e86-9f38-51aa67aa54e7",
   "metadata": {},
   "outputs": [
    {
     "data": {
      "text/html": [
       "<div>\n",
       "<style scoped>\n",
       "    .dataframe tbody tr th:only-of-type {\n",
       "        vertical-align: middle;\n",
       "    }\n",
       "\n",
       "    .dataframe tbody tr th {\n",
       "        vertical-align: top;\n",
       "    }\n",
       "\n",
       "    .dataframe thead th {\n",
       "        text-align: right;\n",
       "    }\n",
       "</style>\n",
       "<table border=\"1\" class=\"dataframe\">\n",
       "  <thead>\n",
       "    <tr style=\"text-align: right;\">\n",
       "      <th></th>\n",
       "      <th>Month</th>\n",
       "      <th>Date</th>\n",
       "      <th>Day_of_week</th>\n",
       "      <th>Hour</th>\n",
       "      <th>Minutes</th>\n",
       "      <th>Temperature</th>\n",
       "      <th>Is_weekend</th>\n",
       "      <th>Is_holiday</th>\n",
       "      <th>Is_start_of_semester</th>\n",
       "      <th>Is_during_semester</th>\n",
       "      <th>Number_people</th>\n",
       "    </tr>\n",
       "  </thead>\n",
       "  <tbody>\n",
       "    <tr>\n",
       "      <th>0</th>\n",
       "      <td>8</td>\n",
       "      <td>14</td>\n",
       "      <td>4</td>\n",
       "      <td>17</td>\n",
       "      <td>00</td>\n",
       "      <td>71.76</td>\n",
       "      <td>0</td>\n",
       "      <td>0</td>\n",
       "      <td>0</td>\n",
       "      <td>0</td>\n",
       "      <td>37</td>\n",
       "    </tr>\n",
       "    <tr>\n",
       "      <th>1</th>\n",
       "      <td>8</td>\n",
       "      <td>14</td>\n",
       "      <td>4</td>\n",
       "      <td>17</td>\n",
       "      <td>20</td>\n",
       "      <td>71.76</td>\n",
       "      <td>0</td>\n",
       "      <td>0</td>\n",
       "      <td>0</td>\n",
       "      <td>0</td>\n",
       "      <td>45</td>\n",
       "    </tr>\n",
       "  </tbody>\n",
       "</table>\n",
       "</div>"
      ],
      "text/plain": [
       "   Month Date  Day_of_week  Hour Minutes  Temperature  Is_weekend  Is_holiday  \\\n",
       "0      8  14             4    17      00        71.76           0           0   \n",
       "1      8  14             4    17      20        71.76           0           0   \n",
       "\n",
       "   Is_start_of_semester  Is_during_semester  Number_people  \n",
       "0                     0                   0             37  \n",
       "1                     0                   0             45  "
      ]
     },
     "execution_count": 17,
     "metadata": {},
     "output_type": "execute_result"
    }
   ],
   "source": [
    "df.head(2)"
   ]
  },
  {
   "cell_type": "code",
   "execution_count": 18,
   "id": "0a57baa1-03a2-444f-8c53-6ace477a3ea4",
   "metadata": {},
   "outputs": [
    {
     "data": {
      "text/plain": [
       "(62184, 11)"
      ]
     },
     "execution_count": 18,
     "metadata": {},
     "output_type": "execute_result"
    }
   ],
   "source": [
    "df.shape"
   ]
  },
  {
   "cell_type": "code",
   "execution_count": 19,
   "id": "1a52b3b0-a989-4bb5-8329-0239cf612c0a",
   "metadata": {},
   "outputs": [
    {
     "name": "stdout",
     "output_type": "stream",
     "text": [
      "<class 'pandas.core.frame.DataFrame'>\n",
      "RangeIndex: 62184 entries, 0 to 62183\n",
      "Data columns (total 11 columns):\n",
      " #   Column                Non-Null Count  Dtype  \n",
      "---  ------                --------------  -----  \n",
      " 0   Month                 62184 non-null  int64  \n",
      " 1   Date                  62184 non-null  object \n",
      " 2   Day_of_week           62184 non-null  int64  \n",
      " 3   Hour                  62184 non-null  int64  \n",
      " 4   Minutes               62184 non-null  object \n",
      " 5   Temperature           62184 non-null  float64\n",
      " 6   Is_weekend            62184 non-null  int64  \n",
      " 7   Is_holiday            62184 non-null  int64  \n",
      " 8   Is_start_of_semester  62184 non-null  int64  \n",
      " 9   Is_during_semester    62184 non-null  int64  \n",
      " 10  Number_people         62184 non-null  int64  \n",
      "dtypes: float64(1), int64(8), object(2)\n",
      "memory usage: 5.2+ MB\n"
     ]
    }
   ],
   "source": [
    "df.info()"
   ]
  },
  {
   "cell_type": "markdown",
   "id": "24de34bf-2be0-44cd-a066-a3e6d5153db5",
   "metadata": {},
   "source": [
    "<span style=\"font-size: 30px; color: Green\">Encode categorical variables</span>"
   ]
  },
  {
   "cell_type": "code",
   "execution_count": 22,
   "id": "b452a744-c5b6-4e22-98ef-1ce690f296c4",
   "metadata": {},
   "outputs": [],
   "source": [
    "# label encoding for year, since this column has an ordinal r/ship(In order)\n",
    "# label_encoder = LabelEncoder()\n",
    "# df[\"Year\"] = label_encoder.fit_transform(df[\"Year\"])"
   ]
  },
  {
   "cell_type": "code",
   "execution_count": 20,
   "id": "3c429d66-5c7d-41aa-b3ca-74d268093d16",
   "metadata": {},
   "outputs": [],
   "source": [
    "# Converting Date and Minutes columns as int datatype\n",
    "df[\"Date\"] = df[\"Date\"].astype(int)\n",
    "df[\"Minutes\"] = df[\"Minutes\"].astype(int)"
   ]
  },
  {
   "cell_type": "code",
   "execution_count": 21,
   "id": "6745e550-ac76-4428-b7a4-3d8d4918701d",
   "metadata": {},
   "outputs": [
    {
     "name": "stdout",
     "output_type": "stream",
     "text": [
      "<class 'pandas.core.frame.DataFrame'>\n",
      "RangeIndex: 62184 entries, 0 to 62183\n",
      "Data columns (total 11 columns):\n",
      " #   Column                Non-Null Count  Dtype  \n",
      "---  ------                --------------  -----  \n",
      " 0   Month                 62184 non-null  int64  \n",
      " 1   Date                  62184 non-null  int64  \n",
      " 2   Day_of_week           62184 non-null  int64  \n",
      " 3   Hour                  62184 non-null  int64  \n",
      " 4   Minutes               62184 non-null  int64  \n",
      " 5   Temperature           62184 non-null  float64\n",
      " 6   Is_weekend            62184 non-null  int64  \n",
      " 7   Is_holiday            62184 non-null  int64  \n",
      " 8   Is_start_of_semester  62184 non-null  int64  \n",
      " 9   Is_during_semester    62184 non-null  int64  \n",
      " 10  Number_people         62184 non-null  int64  \n",
      "dtypes: float64(1), int64(10)\n",
      "memory usage: 5.2 MB\n"
     ]
    }
   ],
   "source": [
    "df.info()"
   ]
  },
  {
   "cell_type": "markdown",
   "id": "640095e4-ca86-46ac-a529-7670739e7286",
   "metadata": {},
   "source": [
    "<span style=\"font-size: 30px; color: Green\">Data Scaling and Normalization</span>"
   ]
  },
  {
   "cell_type": "code",
   "execution_count": 22,
   "id": "95d8faf8-5ad2-4ad0-810d-77ca9a678717",
   "metadata": {},
   "outputs": [],
   "source": [
    "# Using Normalization since the data have outliers\n",
    "# Normalizing all the columns except the target column\n",
    "data = df.drop([\"Number_people\"], axis=1)\n",
    "scaler = MinMaxScaler()\n",
    "data = pd.DataFrame(scaler.fit_transform(data), columns=data.columns)"
   ]
  },
  {
   "cell_type": "code",
   "execution_count": 23,
   "id": "6c389af4-d724-45e9-abca-6dcbda242036",
   "metadata": {},
   "outputs": [],
   "source": [
    "data[\"Number_people\"] = df[\"Number_people\"]"
   ]
  },
  {
   "cell_type": "code",
   "execution_count": 24,
   "id": "f0576ed4-afa9-4453-bb2d-bcbd1cf9454a",
   "metadata": {},
   "outputs": [
    {
     "data": {
      "text/html": [
       "<div>\n",
       "<style scoped>\n",
       "    .dataframe tbody tr th:only-of-type {\n",
       "        vertical-align: middle;\n",
       "    }\n",
       "\n",
       "    .dataframe tbody tr th {\n",
       "        vertical-align: top;\n",
       "    }\n",
       "\n",
       "    .dataframe thead th {\n",
       "        text-align: right;\n",
       "    }\n",
       "</style>\n",
       "<table border=\"1\" class=\"dataframe\">\n",
       "  <thead>\n",
       "    <tr style=\"text-align: right;\">\n",
       "      <th></th>\n",
       "      <th>Month</th>\n",
       "      <th>Date</th>\n",
       "      <th>Day_of_week</th>\n",
       "      <th>Hour</th>\n",
       "      <th>Minutes</th>\n",
       "      <th>Temperature</th>\n",
       "      <th>Is_weekend</th>\n",
       "      <th>Is_holiday</th>\n",
       "      <th>Is_start_of_semester</th>\n",
       "      <th>Is_during_semester</th>\n",
       "      <th>Number_people</th>\n",
       "    </tr>\n",
       "  </thead>\n",
       "  <tbody>\n",
       "    <tr>\n",
       "      <th>0</th>\n",
       "      <td>0.636364</td>\n",
       "      <td>0.433333</td>\n",
       "      <td>0.666667</td>\n",
       "      <td>0.73913</td>\n",
       "      <td>0.000000</td>\n",
       "      <td>0.685703</td>\n",
       "      <td>0.0</td>\n",
       "      <td>0.0</td>\n",
       "      <td>0.0</td>\n",
       "      <td>0.0</td>\n",
       "      <td>37</td>\n",
       "    </tr>\n",
       "    <tr>\n",
       "      <th>1</th>\n",
       "      <td>0.636364</td>\n",
       "      <td>0.433333</td>\n",
       "      <td>0.666667</td>\n",
       "      <td>0.73913</td>\n",
       "      <td>0.338983</td>\n",
       "      <td>0.685703</td>\n",
       "      <td>0.0</td>\n",
       "      <td>0.0</td>\n",
       "      <td>0.0</td>\n",
       "      <td>0.0</td>\n",
       "      <td>45</td>\n",
       "    </tr>\n",
       "  </tbody>\n",
       "</table>\n",
       "</div>"
      ],
      "text/plain": [
       "      Month      Date  Day_of_week     Hour   Minutes  Temperature  \\\n",
       "0  0.636364  0.433333     0.666667  0.73913  0.000000     0.685703   \n",
       "1  0.636364  0.433333     0.666667  0.73913  0.338983     0.685703   \n",
       "\n",
       "   Is_weekend  Is_holiday  Is_start_of_semester  Is_during_semester  \\\n",
       "0         0.0         0.0                   0.0                 0.0   \n",
       "1         0.0         0.0                   0.0                 0.0   \n",
       "\n",
       "   Number_people  \n",
       "0             37  \n",
       "1             45  "
      ]
     },
     "execution_count": 24,
     "metadata": {},
     "output_type": "execute_result"
    }
   ],
   "source": [
    "data.head(2)"
   ]
  },
  {
   "cell_type": "code",
   "execution_count": 25,
   "id": "9f02e6ac-ac63-44e0-a2e0-524efb353203",
   "metadata": {},
   "outputs": [],
   "source": [
    "data.to_csv(\"newdf.csv\", index=False)"
   ]
  },
  {
   "cell_type": "markdown",
   "id": "f294bb6a-9c37-4a07-8940-820afa8c8aca",
   "metadata": {},
   "source": [
    "<span style=\"font-size: 30px; color: Green\">Reload the Dataset</span>"
   ]
  },
  {
   "cell_type": "code",
   "execution_count": 26,
   "id": "b3f29052-a1bf-4134-b6b4-fbcc19cca40b",
   "metadata": {},
   "outputs": [
    {
     "data": {
      "text/html": [
       "<div>\n",
       "<style scoped>\n",
       "    .dataframe tbody tr th:only-of-type {\n",
       "        vertical-align: middle;\n",
       "    }\n",
       "\n",
       "    .dataframe tbody tr th {\n",
       "        vertical-align: top;\n",
       "    }\n",
       "\n",
       "    .dataframe thead th {\n",
       "        text-align: right;\n",
       "    }\n",
       "</style>\n",
       "<table border=\"1\" class=\"dataframe\">\n",
       "  <thead>\n",
       "    <tr style=\"text-align: right;\">\n",
       "      <th></th>\n",
       "      <th>Month</th>\n",
       "      <th>Date</th>\n",
       "      <th>Day_of_week</th>\n",
       "      <th>Hour</th>\n",
       "      <th>Minutes</th>\n",
       "      <th>Temperature</th>\n",
       "      <th>Is_weekend</th>\n",
       "      <th>Is_holiday</th>\n",
       "      <th>Is_start_of_semester</th>\n",
       "      <th>Is_during_semester</th>\n",
       "      <th>Number_people</th>\n",
       "    </tr>\n",
       "  </thead>\n",
       "  <tbody>\n",
       "    <tr>\n",
       "      <th>0</th>\n",
       "      <td>0.636364</td>\n",
       "      <td>0.433333</td>\n",
       "      <td>0.666667</td>\n",
       "      <td>0.73913</td>\n",
       "      <td>0.000000</td>\n",
       "      <td>0.685703</td>\n",
       "      <td>0.0</td>\n",
       "      <td>0.0</td>\n",
       "      <td>0.0</td>\n",
       "      <td>0.0</td>\n",
       "      <td>37</td>\n",
       "    </tr>\n",
       "    <tr>\n",
       "      <th>1</th>\n",
       "      <td>0.636364</td>\n",
       "      <td>0.433333</td>\n",
       "      <td>0.666667</td>\n",
       "      <td>0.73913</td>\n",
       "      <td>0.338983</td>\n",
       "      <td>0.685703</td>\n",
       "      <td>0.0</td>\n",
       "      <td>0.0</td>\n",
       "      <td>0.0</td>\n",
       "      <td>0.0</td>\n",
       "      <td>45</td>\n",
       "    </tr>\n",
       "  </tbody>\n",
       "</table>\n",
       "</div>"
      ],
      "text/plain": [
       "      Month      Date  Day_of_week     Hour   Minutes  Temperature  \\\n",
       "0  0.636364  0.433333     0.666667  0.73913  0.000000     0.685703   \n",
       "1  0.636364  0.433333     0.666667  0.73913  0.338983     0.685703   \n",
       "\n",
       "   Is_weekend  Is_holiday  Is_start_of_semester  Is_during_semester  \\\n",
       "0         0.0         0.0                   0.0                 0.0   \n",
       "1         0.0         0.0                   0.0                 0.0   \n",
       "\n",
       "   Number_people  \n",
       "0             37  \n",
       "1             45  "
      ]
     },
     "execution_count": 26,
     "metadata": {},
     "output_type": "execute_result"
    }
   ],
   "source": [
    "df = pd.read_csv(\"newdf.csv\")\n",
    "df.head(2)"
   ]
  },
  {
   "cell_type": "markdown",
   "id": "f00c8427-be75-469c-a48d-f665db64ae44",
   "metadata": {},
   "source": [
    "<span style=\"font-size: 30px; color: Green\">Data Splitting</span>"
   ]
  },
  {
   "cell_type": "code",
   "execution_count": 27,
   "id": "65265223-495d-4fb0-a096-e5bddfb58e8d",
   "metadata": {},
   "outputs": [],
   "source": [
    "# Training and Testing data\n",
    "X = df.drop([\"Number_people\"], axis=1)\n",
    "\n",
    "# Target column\n",
    "y = df[\"Number_people\"]"
   ]
  },
  {
   "cell_type": "code",
   "execution_count": 28,
   "id": "f8fc775b-7e41-4df8-b309-60c842be11ef",
   "metadata": {},
   "outputs": [],
   "source": [
    "# Splitting\n",
    "X_train, X_test, y_train, y_test = train_test_split(X, y, test_size=0.2, random_state=42)"
   ]
  },
  {
   "cell_type": "markdown",
   "id": "34ed76cb-fd26-4edc-b575-92147416d007",
   "metadata": {},
   "source": [
    "<span style=\"font-size: 30px; color: Green\">Model Selection and Training</span>"
   ]
  },
  {
   "cell_type": "markdown",
   "id": "ecec61a4-3c95-43b3-9736-1cbd350ecb80",
   "metadata": {},
   "source": [
    "## Simple Linear Regression"
   ]
  },
  {
   "cell_type": "code",
   "execution_count": 29,
   "id": "caa2608a-c1c2-4eb2-8427-b39e5e686e44",
   "metadata": {},
   "outputs": [],
   "source": [
    "# Simple Linear Regression on Day_of_week\n",
    "X_train_ind_var = X_train[\"Day_of_week\"].values.reshape(-1, 1)\n",
    "X_test_ind_var = X_test[\"Day_of_week\"].values.reshape(-1, 1)\n",
    "\n",
    "# fit model on training data\n",
    "slr_model = LinearRegression()\n",
    "slr_model.fit(X_train_ind_var, y_train)\n",
    "\n",
    "# predict on testing data\n",
    "slr_y_pred = slr_model.predict(X_test_ind_var)"
   ]
  },
  {
   "cell_type": "markdown",
   "id": "ba0157c9-be9d-4a84-bf02-603f325b5af1",
   "metadata": {},
   "source": [
    "### SLR Model evaluation"
   ]
  },
  {
   "cell_type": "code",
   "execution_count": 30,
   "id": "bcc6904f-4cb7-44c0-b27d-eac88ab0f134",
   "metadata": {},
   "outputs": [
    {
     "name": "stdout",
     "output_type": "stream",
     "text": [
      "Mean Squared Error(MSE): 504.3150135497321\n",
      "Mean Absolute Error(MAE): 18.188769881696313\n",
      "R2_Score(R-Squared Score): 0.024248315186191194\n"
     ]
    }
   ],
   "source": [
    "print(f\"Mean Squared Error(MSE): {mean_squared_error(y_test, slr_y_pred)}\")\n",
    "print(f\"Mean Absolute Error(MAE): {mean_absolute_error(y_test, slr_y_pred)}\")\n",
    "print(f\"R2_Score(R-Squared Score): {r2_score(y_test, slr_y_pred)}\")"
   ]
  },
  {
   "cell_type": "code",
   "execution_count": 31,
   "id": "366be604-63bf-4a66-9781-0d8df231757d",
   "metadata": {},
   "outputs": [
    {
     "name": "stdout",
     "output_type": "stream",
     "text": [
      "Mean Squared Error(MSE): 439.2203062328981\n",
      "Mean Absolute Error(MAE): 16.77973429289268\n",
      "R2_Score(R-Squared Score): 0.15019394169012834\n"
     ]
    }
   ],
   "source": [
    "# Simple Linear Regression on Temperature\n",
    "X_train_ind_var = X_train[\"Temperature\"].values.reshape(-1, 1)\n",
    "X_test_ind_var = X_test[\"Temperature\"].values.reshape(-1, 1)\n",
    "\n",
    "# fit model on training data\n",
    "slr_model = LinearRegression()\n",
    "slr_model.fit(X_train_ind_var, y_train)\n",
    "\n",
    "# predict on testing data\n",
    "slr_y_pred = slr_model.predict(X_test_ind_var)\n",
    "\n",
    "print(f\"Mean Squared Error(MSE): {mean_squared_error(y_test, slr_y_pred)}\")\n",
    "print(f\"Mean Absolute Error(MAE): {mean_absolute_error(y_test, slr_y_pred)}\")\n",
    "print(f\"R2_Score(R-Squared Score): {r2_score(y_test, slr_y_pred)}\")"
   ]
  },
  {
   "cell_type": "code",
   "execution_count": 32,
   "id": "34812a93-3ec7-4a41-9522-c28da6688f79",
   "metadata": {},
   "outputs": [
    {
     "name": "stdout",
     "output_type": "stream",
     "text": [
      "Mean Squared Error(MSE): 360.5633548602126\n",
      "Mean Absolute Error(MAE): 14.67565188781765\n",
      "R2_Score(R-Squared Score): 0.302379878579051\n"
     ]
    }
   ],
   "source": [
    "# Simple Linear Regression on Hour\n",
    "X_train_ind_var = X_train[\"Hour\"].values.reshape(-1, 1)\n",
    "X_test_ind_var = X_test[\"Hour\"].values.reshape(-1, 1)\n",
    "\n",
    "# fit model on training data\n",
    "slr_model = LinearRegression()\n",
    "slr_model.fit(X_train_ind_var, y_train)\n",
    "\n",
    "# predict on testing data\n",
    "slr_y_pred = slr_model.predict(X_test_ind_var)\n",
    "\n",
    "print(f\"Mean Squared Error(MSE): {mean_squared_error(y_test, slr_y_pred)}\")\n",
    "print(f\"Mean Absolute Error(MAE): {mean_absolute_error(y_test, slr_y_pred)}\")\n",
    "print(f\"R2_Score(R-Squared Score): {r2_score(y_test, slr_y_pred)}\")"
   ]
  },
  {
   "cell_type": "markdown",
   "id": "bf820c69-650d-4e70-93dc-73f0ef1e3307",
   "metadata": {},
   "source": [
    "## Multiple Linear Regression"
   ]
  },
  {
   "cell_type": "code",
   "execution_count": 33,
   "id": "10ddf8da-5726-4d7f-af99-d63dca36640b",
   "metadata": {},
   "outputs": [],
   "source": [
    "mlr_model = LinearRegression()\n",
    "\n",
    "# fit the model on training data\n",
    "mlr_model.fit(X_train, y_train)\n",
    "\n",
    "# Predict on testing data\n",
    "mlr_y_pred = mlr_model.predict(X_test)"
   ]
  },
  {
   "cell_type": "markdown",
   "id": "6efff7ce-c164-404e-a7a5-ed43763c54b4",
   "metadata": {},
   "source": [
    "### MLR Model Evaluation"
   ]
  },
  {
   "cell_type": "code",
   "execution_count": 34,
   "id": "2b5305bc-b5d7-4022-a4a1-db5a4c538eb0",
   "metadata": {},
   "outputs": [
    {
     "name": "stdout",
     "output_type": "stream",
     "text": [
      "Mean Squared Error(MSE): 250.27428523617226\n",
      "Mean Absolute Error(MAE): 12.09120651327613\n",
      "R2_Score(R-Squared Score): 0.5157678258161058\n"
     ]
    }
   ],
   "source": [
    "print(f\"Mean Squared Error(MSE): {mean_squared_error(y_test, mlr_y_pred)}\")\n",
    "print(f\"Mean Absolute Error(MAE): {mean_absolute_error(y_test, mlr_y_pred)}\")\n",
    "print(f\"R2_Score(R-Squared Score): {r2_score(y_test, mlr_y_pred)}\")"
   ]
  },
  {
   "cell_type": "markdown",
   "id": "fbc16fb7-76b4-4908-aef3-a76461ad6e05",
   "metadata": {},
   "source": [
    "## Polynomial Regression"
   ]
  },
  {
   "cell_type": "code",
   "execution_count": 38,
   "id": "7f8434bc-2dd3-4ff8-86ca-c2cc2e2a77a5",
   "metadata": {},
   "outputs": [],
   "source": [
    "poly_ft = PolynomialFeatures()\n",
    "\n",
    "# Transform input features to poly features\n",
    "X_train_poly = poly_ft.fit_transform(X_train)\n",
    "X_test_poly = poly_ft.transform(X_test)\n",
    "\n",
    "# fit on Linear regression model\n",
    "lr_model = LinearRegression()\n",
    "lr_model.fit(X_train_poly, y_train)\n",
    "\n",
    "# predict on testing data\n",
    "poly_y_pred = lr_model.predict(X_test_poly)"
   ]
  },
  {
   "cell_type": "markdown",
   "id": "80b3c5bb-a0f8-43a9-bdb4-15563d03bb80",
   "metadata": {},
   "source": [
    "### PR Model Evaluation"
   ]
  },
  {
   "cell_type": "code",
   "execution_count": 39,
   "id": "4b5066ab-0b88-43f3-bc4c-4997d36bbc59",
   "metadata": {},
   "outputs": [
    {
     "name": "stdout",
     "output_type": "stream",
     "text": [
      "Mean Squared Error(MSE): 158.4265352575406\n",
      "Mean Absolute Error(MAE): 9.320230343594968\n",
      "R2_Score(R-Squared Score): 0.6934753982264392\n"
     ]
    }
   ],
   "source": [
    "print(f\"Mean Squared Error(MSE): {mean_squared_error(y_test, poly_y_pred)}\")\n",
    "print(f\"Mean Absolute Error(MAE): {mean_absolute_error(y_test, poly_y_pred)}\")\n",
    "print(f\"R2_Score(R-Squared Score): {r2_score(y_test, poly_y_pred)}\")"
   ]
  },
  {
   "cell_type": "markdown",
   "id": "15f29c30-a68c-4884-9dec-b9b2909c1240",
   "metadata": {},
   "source": [
    "## Ridge regression (L2 regularization)"
   ]
  },
  {
   "cell_type": "code",
   "execution_count": 40,
   "id": "f60ce15d-93b4-463b-b713-9d15cdba032a",
   "metadata": {},
   "outputs": [],
   "source": [
    "ridge = Ridge()\n",
    "# fit the model on training data\n",
    "ridge.fit(X_train, y_train)\n",
    "# predict the model on testing data\n",
    "y_ridge_pred = ridge.predict(X_test)"
   ]
  },
  {
   "cell_type": "markdown",
   "id": "1a29ef76-32ef-443a-bfc5-d8502eb2637b",
   "metadata": {},
   "source": [
    "### L2 Model Evaluation"
   ]
  },
  {
   "cell_type": "code",
   "execution_count": 41,
   "id": "f87a8b2a-7488-4ea9-a969-6163bccb366a",
   "metadata": {},
   "outputs": [
    {
     "name": "stdout",
     "output_type": "stream",
     "text": [
      "Mean Squared Error(MSE): 202.22331735698506\n",
      "Mean Absolute Error(MAE): 10.631339907427238\n",
      "R2_Score(R-Squared Score): 0.6087371239836044\n"
     ]
    }
   ],
   "source": [
    "print(f\"Mean Squared Error(MSE): {mean_squared_error(y_test, y_ridge_pred)}\")\n",
    "print(f\"Mean Absolute Error(MAE): {mean_absolute_error(y_test, y_ridge_pred)}\")\n",
    "print(f\"R2_Score(R-Squared Score): {r2_score(y_test, y_ridge_pred)}\")"
   ]
  },
  {
   "cell_type": "markdown",
   "id": "a76fd102-417e-4197-9ed0-18e41d5d0da8",
   "metadata": {},
   "source": [
    "## Lasso Regression(L1 regularization)"
   ]
  },
  {
   "cell_type": "code",
   "execution_count": 42,
   "id": "435344cc-a2c1-4e2f-96e4-f01516b618f3",
   "metadata": {},
   "outputs": [],
   "source": [
    "lasso = Lasso()\n",
    "# fit the model on training data\n",
    "lasso.fit(X_train, y_train)\n",
    "# predict the model on testing data\n",
    "y_lasso_pred = lasso.predict(X_test)"
   ]
  },
  {
   "cell_type": "markdown",
   "id": "6cf41f30-41d0-4963-b5cd-ea0149eb2b04",
   "metadata": {},
   "source": [
    "### L1 Model Evaluation"
   ]
  },
  {
   "cell_type": "code",
   "execution_count": 43,
   "id": "aee3e542-68aa-4dec-9bc3-6da49a5abe20",
   "metadata": {},
   "outputs": [
    {
     "name": "stdout",
     "output_type": "stream",
     "text": [
      "Mean Squared Error(MSE): 294.20955092063457\n",
      "Mean Absolute Error(MAE): 13.273204394432952\n",
      "R2_Score(R-Squared Score): 0.4307616127101205\n"
     ]
    }
   ],
   "source": [
    "print(f\"Mean Squared Error(MSE): {mean_squared_error(y_test, y_lasso_pred)}\")\n",
    "print(f\"Mean Absolute Error(MAE): {mean_absolute_error(y_test, y_lasso_pred)}\")\n",
    "print(f\"R2_Score(R-Squared Score): {r2_score(y_test, y_lasso_pred)}\")"
   ]
  },
  {
   "cell_type": "markdown",
   "id": "6cb93093-5b1c-43b9-b4de-d1959cd7a772",
   "metadata": {},
   "source": [
    "## Support Vector Regression (SVR)"
   ]
  },
  {
   "cell_type": "code",
   "execution_count": 44,
   "id": "5bf9116a-48dd-4812-bafe-03a87236ca11",
   "metadata": {},
   "outputs": [
    {
     "name": "stdout",
     "output_type": "stream",
     "text": [
      "Mean Squared Error(MSE): 143.88256784440776\n",
      "Mean Absolute Error(MAE): 8.594186756555255\n",
      "R2_Score(R-Squared Score): 0.7216151527964112\n"
     ]
    }
   ],
   "source": [
    "svr = SVR()\n",
    "# fit the model on training data\n",
    "svr.fit(X_train, y_train)\n",
    "# predict the model on testing data\n",
    "y_svr_pred = svr.predict(X_test)\n",
    "\n",
    "# model evaluation\n",
    "print(f\"Mean Squared Error(MSE): {mean_squared_error(y_test, y_svr_pred)}\")\n",
    "print(f\"Mean Absolute Error(MAE): {mean_absolute_error(y_test, y_svr_pred)}\")\n",
    "print(f\"R2_Score(R-Squared Score): {r2_score(y_test, y_svr_pred)}\")"
   ]
  },
  {
   "cell_type": "markdown",
   "id": "cca742c3-7ed1-4344-ae9b-d33c74629e66",
   "metadata": {},
   "source": [
    "## Decision Tree Regression"
   ]
  },
  {
   "cell_type": "code",
   "execution_count": 45,
   "id": "80057194-cbb9-463d-8b2e-99915bd6a162",
   "metadata": {},
   "outputs": [
    {
     "name": "stdout",
     "output_type": "stream",
     "text": [
      "Mean Squared Error(MSE): 51.888035699927634\n",
      "Mean Absolute Error(MAE): 4.8435313982471655\n",
      "R2_Score(R-Squared Score): 0.8996067202133956\n"
     ]
    }
   ],
   "source": [
    "dtree = DecisionTreeRegressor()\n",
    "\n",
    "# fit the model on training data\n",
    "dtree.fit(X_train, y_train)\n",
    "\n",
    "# predict the model on testing data\n",
    "y_dtree_pred = dtree.predict(X_test)\n",
    "\n",
    "# model evaluation\n",
    "print(f\"Mean Squared Error(MSE): {mean_squared_error(y_test, y_dtree_pred)}\")\n",
    "print(f\"Mean Absolute Error(MAE): {mean_absolute_error(y_test, y_dtree_pred)}\")\n",
    "print(f\"R2_Score(R-Squared Score): {r2_score(y_test, y_dtree_pred)}\")"
   ]
  },
  {
   "cell_type": "markdown",
   "id": "29aa03b9-fd10-4369-a53d-9b6f90c82070",
   "metadata": {},
   "source": [
    "## Random Forest Regression"
   ]
  },
  {
   "cell_type": "code",
   "execution_count": 35,
   "id": "d3aeb767-62d4-45a2-8836-6f854dc49964",
   "metadata": {},
   "outputs": [
    {
     "name": "stdout",
     "output_type": "stream",
     "text": [
      "Mean Squared Error(MSE): 40.97559699434984\n",
      "Mean Absolute Error(MAE): 4.283123824073329\n",
      "R2_Score(R-Squared Score): 0.920720171461749\n"
     ]
    }
   ],
   "source": [
    "rfr = RandomForestRegressor()\n",
    "# fit the model on training data\n",
    "rfr.fit(X_train, y_train)\n",
    "# predict on testing data\n",
    "y_rfr_pred = rfr.predict(X_test)\n",
    "\n",
    "# model evaluation\n",
    "print(f\"Mean Squared Error(MSE): {mean_squared_error(y_test, y_rfr_pred)}\")\n",
    "print(f\"Mean Absolute Error(MAE): {mean_absolute_error(y_test, y_rfr_pred)}\")\n",
    "print(f\"R2_Score(R-Squared Score): {r2_score(y_test, y_rfr_pred)}\")"
   ]
  },
  {
   "cell_type": "markdown",
   "id": "4dab8d89-99da-4c82-93c8-45bf5b494ed7",
   "metadata": {},
   "source": [
    "<span style=\"font-size: 30px; color: Green\">Model Validation and Tuning</span>"
   ]
  },
  {
   "cell_type": "markdown",
   "id": "db78f24f-3cca-49d7-8f4d-8acf1149e376",
   "metadata": {},
   "source": [
    "### Random Forest Regression- Grid Search"
   ]
  },
  {
   "cell_type": "code",
   "execution_count": 36,
   "id": "6f179e59-7b27-4f38-9cca-b7af8d53c524",
   "metadata": {},
   "outputs": [
    {
     "name": "stderr",
     "output_type": "stream",
     "text": [
      "/home/jane/.local/lib/python3.8/site-packages/sklearn/model_selection/_validation.py:425: FitFailedWarning: \n",
      "540 fits failed out of a total of 1620.\n",
      "The score on these train-test partitions for these parameters will be set to nan.\n",
      "If these failures are not expected, you can try to debug them by setting error_score='raise'.\n",
      "\n",
      "Below are more details about the failures:\n",
      "--------------------------------------------------------------------------------\n",
      "540 fits failed with the following error:\n",
      "Traceback (most recent call last):\n",
      "  File \"/home/jane/.local/lib/python3.8/site-packages/sklearn/model_selection/_validation.py\", line 732, in _fit_and_score\n",
      "    estimator.fit(X_train, y_train, **fit_params)\n",
      "  File \"/home/jane/.local/lib/python3.8/site-packages/sklearn/base.py\", line 1144, in wrapper\n",
      "    estimator._validate_params()\n",
      "  File \"/home/jane/.local/lib/python3.8/site-packages/sklearn/base.py\", line 637, in _validate_params\n",
      "    validate_parameter_constraints(\n",
      "  File \"/home/jane/.local/lib/python3.8/site-packages/sklearn/utils/_param_validation.py\", line 95, in validate_parameter_constraints\n",
      "    raise InvalidParameterError(\n",
      "sklearn.utils._param_validation.InvalidParameterError: The 'max_features' parameter of RandomForestRegressor must be an int in the range [1, inf), a float in the range (0.0, 1.0], a str among {'sqrt', 'log2'} or None. Got 'auto' instead.\n",
      "\n",
      "  warnings.warn(some_fits_failed_message, FitFailedWarning)\n",
      "/home/jane/.local/lib/python3.8/site-packages/sklearn/model_selection/_search.py:976: UserWarning: One or more of the test scores are non-finite: [          nan           nan           nan           nan           nan\n",
      "           nan           nan           nan           nan           nan\n",
      "           nan           nan           nan           nan           nan\n",
      "           nan           nan           nan           nan           nan\n",
      "           nan           nan           nan           nan           nan\n",
      "           nan           nan  -39.41328606  -38.88399172  -38.55163899\n",
      "  -42.326464    -41.66959486  -41.35282646  -47.94416379  -47.31064417\n",
      "  -47.17213413  -44.64641463  -44.08658092  -43.8883661   -45.15237561\n",
      "  -44.50353706  -44.49772411  -49.74744867  -49.12560964  -49.05622425\n",
      "  -53.70865046  -52.87546806  -52.48417016  -53.22122641  -53.00865497\n",
      "  -52.59870143  -54.27386247  -53.87106979  -53.48156068  -39.61553827\n",
      "  -39.01182563  -38.74310293  -42.08651337  -41.76024541  -41.34189329\n",
      "  -48.22185602  -47.60030523  -47.28708677  -44.82788336  -44.11331208\n",
      "  -43.77160574  -45.458211    -44.52105805  -44.44110065  -49.74102045\n",
      "  -49.10331715  -49.01892116  -53.60553056  -52.77909897  -52.75169632\n",
      "  -53.08843857  -52.63589936  -52.68237705  -54.36830344  -53.72376407\n",
      "  -53.5004811            nan           nan           nan           nan\n",
      "           nan           nan           nan           nan           nan\n",
      "           nan           nan           nan           nan           nan\n",
      "           nan           nan           nan           nan           nan\n",
      "           nan           nan           nan           nan           nan\n",
      "           nan           nan           nan -198.81857397 -198.97820646\n",
      " -198.85973348 -199.01405829 -201.62280541 -199.63378126 -198.45994429\n",
      " -199.39792481 -200.21079436 -200.53782756 -199.56163093 -198.85035946\n",
      " -198.85341605 -197.49772823 -199.06477032 -200.26886467 -199.37162461\n",
      " -200.13099411 -198.59328657 -198.4197451  -199.78944832 -198.87654898\n",
      " -201.10075221 -199.68441346 -197.21778168 -199.55540061 -199.67296818\n",
      " -201.46593342 -199.31578749 -198.79573538 -201.22617787 -198.22661419\n",
      " -199.73516019 -200.512853   -199.45660333 -199.05379805 -199.63627055\n",
      " -199.93666537 -199.58372995 -198.98562892 -200.33552876 -198.44544307\n",
      " -201.32705153 -199.99044396 -199.21833338 -200.3496251  -199.42403837\n",
      " -198.00326677 -199.06652594 -199.53710844 -199.38103559 -199.16742475\n",
      " -198.45774359 -198.41219838           nan           nan           nan\n",
      "           nan           nan           nan           nan           nan\n",
      "           nan           nan           nan           nan           nan\n",
      "           nan           nan           nan           nan           nan\n",
      "           nan           nan           nan           nan           nan\n",
      "           nan           nan           nan           nan -116.53858113\n",
      " -116.25766528 -115.8695485  -116.79496162 -116.45378024 -115.66564007\n",
      " -117.28771206 -117.17277729 -116.75643658 -116.50137923 -116.28900721\n",
      " -116.38882919 -116.44435738 -116.16757459 -116.14027111 -117.73669537\n",
      " -117.00495074 -116.65720579 -118.05059979 -117.70493387 -116.97726163\n",
      " -117.42227001 -117.34928548 -116.97997772 -118.35741599 -117.08312161\n",
      " -117.22156598 -116.52647683 -116.01853963 -115.94583745 -116.43845478\n",
      " -116.20457272 -116.24449212 -117.48163095 -117.00508269 -116.51601503\n",
      " -116.80130089 -116.18518645 -116.03131008 -116.6556635  -116.38786002\n",
      " -116.31839322 -117.61891597 -116.94944275 -116.91879755 -117.58290011\n",
      " -116.91312828 -117.24356899 -118.2242533  -117.24265483 -117.35176908\n",
      " -118.0343717  -117.1978098  -117.38661049           nan           nan\n",
      "           nan           nan           nan           nan           nan\n",
      "           nan           nan           nan           nan           nan\n",
      "           nan           nan           nan           nan           nan\n",
      "           nan           nan           nan           nan           nan\n",
      "           nan           nan           nan           nan           nan\n",
      "  -43.1641251   -42.44917284  -42.33010625  -45.48717841  -45.27992093\n",
      "  -44.98444906  -50.54796898  -50.04260493  -49.96821588  -47.7983298\n",
      "  -47.40630382  -46.86269685  -48.24427788  -47.78887876  -47.4113182\n",
      "  -52.55394153  -51.80007309  -51.50993014  -55.61304802  -55.14227724\n",
      "  -54.74147795  -56.07991072  -54.99418854  -54.89468009  -56.35108497\n",
      "  -55.80161992  -55.40879283  -43.33157382  -42.89323439  -42.57994896\n",
      "  -45.98827973  -45.04051997  -45.00924017  -50.79943455  -50.11759635\n",
      "  -49.89040049  -47.56389885  -47.21387237  -46.90700456  -47.98252517\n",
      "  -47.81565632  -47.51140763  -52.54676366  -51.65131022  -51.50372918\n",
      "  -55.58671791  -54.94067442  -54.93340713  -55.48055001  -54.90240287\n",
      "  -54.80926208  -56.5619826   -55.56237471  -55.51598803]\n",
      "  warnings.warn(\n"
     ]
    },
    {
     "name": "stdout",
     "output_type": "stream",
     "text": [
      "Best Hyperparameters: {'max_depth': None, 'max_features': 'sqrt', 'min_samples_leaf': 1, 'min_samples_split': 2, 'n_estimators': 200}\n",
      "Best Mean Squared Error (MSE): 38.551638991542404\n",
      "Mean Squared Error(MSE) on Test Data: 33.744080368761445\n",
      "Mean Absolute Error(MAE): 4.018918791662359\n",
      "R2_Score(R-Squared Score): 0.9347117527980067\n"
     ]
    }
   ],
   "source": [
    "# Hyperparameters\n",
    "param_grid = {\n",
    "    'n_estimators': [50, 100, 200],\n",
    "    'max_depth': [None, 5, 10, 20],\n",
    "    'min_samples_split': [2, 5, 10],\n",
    "    'min_samples_leaf': [1, 2, 4],\n",
    "    'max_features': ['auto', 'sqrt', 'log2']\n",
    "}\n",
    "# Cross-Validation\n",
    "cv = KFold(n_splits=5, shuffle=True, random_state=42)\n",
    "# Model\n",
    "model = RandomForestRegressor()\n",
    "# Grid Search Object\n",
    "grid_search = GridSearchCV(estimator=model, param_grid=param_grid, cv=cv, scoring='neg_mean_squared_error')\n",
    "# Fit on Training Data\n",
    "grid_search.fit(X_train, y_train)\n",
    "# best hyperparameters and best score\n",
    "best_params = grid_search.best_params_\n",
    "best_score = -grid_search.best_score_ \n",
    "# Best model\n",
    "best_model = grid_search.best_estimator_\n",
    "\n",
    "# Predict on the test set using the best model\n",
    "y_pred = best_model.predict(X_test)\n",
    "\n",
    "# Evaluate the model's performance on the test set\n",
    "print(f\"Best Hyperparameters: {best_params}\")\n",
    "print(f\"Best Mean Squared Error (MSE): {best_score}\")\n",
    "print(f\"Mean Squared Error(MSE) on Test Data: {mean_squared_error(y_test, y_pred)}\")\n",
    "print(f\"Mean Absolute Error(MAE): {mean_absolute_error(y_test, y_pred)}\")\n",
    "print(f\"R2_Score(R-Squared Score): {r2_score(y_test, y_pred)}\")"
   ]
  },
  {
   "cell_type": "markdown",
   "id": "61ed0a4c-813f-4de9-bb80-ec3ea22c1771",
   "metadata": {},
   "source": [
    "### Random Forest Regression Randomized Search"
   ]
  },
  {
   "cell_type": "code",
   "execution_count": 49,
   "id": "61da4d2e-9df1-417e-8651-4fc4eb31ef3e",
   "metadata": {},
   "outputs": [
    {
     "name": "stdout",
     "output_type": "stream",
     "text": [
      "Best Hyperparameters: {'n_estimators': 400, 'min_samples_split': 2, 'min_samples_leaf': 1, 'max_depth': 30, 'bootstrap': True}\n",
      "Best Mean Squared Error (MSE): 32.699236963579565\n",
      "Mean Squared Error (MSE) on Test Data: 30.06516827357286\n"
     ]
    }
   ],
   "source": [
    "# Hyperparameters\n",
    "param_dist = {\n",
    "    'n_estimators': [100, 200, 300, 400],\n",
    "    'max_depth': [None, 10, 20, 30],\n",
    "    'min_samples_split': [2, 5, 10],\n",
    "    'min_samples_leaf': [1, 2, 4],\n",
    "    'bootstrap': [True, False]\n",
    "}\n",
    "# Cross-Validation\n",
    "cv = KFold(n_splits=5, shuffle=True, random_state=42)\n",
    "# Model\n",
    "model = RandomForestRegressor()\n",
    "# RRandomized Search Object\n",
    "random_search = RandomizedSearchCV(estimator=model, param_distributions=param_dist, n_iter=100, scoring='neg_mean_squared_error', cv=cv, random_state=42)\n",
    "# Fit on Training Data\n",
    "random_search.fit(X_train, y_train)\n",
    "# best hyperparameters and best score\n",
    "best_params = random_search.best_params_\n",
    "best_score = -random_search.best_score_ \n",
    "# Best model\n",
    "best_model = random_search.best_estimator_\n",
    "\n",
    "# Predict on the test set using the best model\n",
    "y_pred = best_model.predict(X_test)\n",
    "\n",
    "# Evaluate the model's performance on the test set\n",
    "mse = mean_squared_error(y_test, y_pred)\n",
    "print(f\"Best Hyperparameters: {best_params}\")\n",
    "print(f\"Best Mean Squared Error (MSE): {best_score}\")\n",
    "print(f\"Mean Squared Error (MSE) on Test Data: {mse}\")\n",
    "print(f\"R2_Score(R-Squared Score): {r2_score(y_test, y_pred)}\")"
   ]
  },
  {
   "cell_type": "markdown",
   "id": "a9a574fb-a06e-485d-8bdb-a2388e7527b4",
   "metadata": {},
   "source": [
    "Best Hyperparameters: {'max_depth': None, 'max_features': 'log2', 'min_samples_leaf': 1, 'min_samples_split': 2, 'n_estimators': 200}\n",
    "Best Mean Squared Error (MSE): 33.168489516243554\n",
    "Mean Squared Error(MSE) on Test Data: 30.22181752515541\n",
    "Mean Absolute Error(MAE): 3.833016853513135\n",
    "R2_Score(R-Squared Score): 0.9415266478768078\n",
    "\n",
    "\n",
    "Best Hyperparameters: {'n_estimators': 400, 'min_samples_split': 2, 'min_samples_leaf': 1, 'max_depth': 30, 'bootstrap': True}\n",
    "Best Mean Squared Error (MSE): 32.699236963579565\n",
    "Mean Squared Error (MSE) on Test Data: 30.06516827357286"
   ]
  },
  {
   "cell_type": "markdown",
   "id": "da6c680a-899c-4c74-b8a5-b67017f0f0e1",
   "metadata": {},
   "source": [
    "<span style=\"font-size: 30px; color: Green\">Model Evaluation</span>"
   ]
  },
  {
   "cell_type": "code",
   "execution_count": 43,
   "id": "23f7a4dc-e35c-481c-8df9-96e1d43a293f",
   "metadata": {},
   "outputs": [
    {
     "name": "stdout",
     "output_type": "stream",
     "text": [
      "Mean Squared Error(MSE): 40.60656049070724\n",
      "Mean Absolute Error(MAE): 4.271315094106041\n",
      "R2_Score(R-Squared Score): 0.9214341854817809\n"
     ]
    }
   ],
   "source": [
    "# From Grid Search\n",
    "# Best Hyperparameters: {'max_depth': None, 'max_features': 'sqrt', 'min_samples_leaf': 1, 'min_samples_split': 2, 'n_estimators': 200}\n",
    "best_model = RandomForestRegressor(n_estimators=200, min_samples_split=2, min_samples_leaf=1, max_depth=None)\n",
    "# Fit the model on training data\n",
    "best_model.fit(X_train, y_train)\n",
    "\n",
    "# Make predictions on the test set\n",
    "y_pred = best_model.predict(X_test)\n",
    "\n",
    "# Evaluation scores\n",
    "print(f\"Mean Squared Error(MSE): {mean_squared_error(y_test, y_pred)}\")\n",
    "print(f\"Mean Absolute Error(MAE): {mean_absolute_error(y_test, y_pred)}\")\n",
    "print(f\"R2_Score(R-Squared Score): {r2_score(y_test, y_pred)}\")"
   ]
  },
  {
   "cell_type": "code",
   "execution_count": 46,
   "id": "2ed30ed3-b83e-473a-90cb-3e5a82bfeae1",
   "metadata": {},
   "outputs": [
    {
     "data": {
      "text/plain": [
       "['best_model.pkl']"
      ]
     },
     "execution_count": 46,
     "metadata": {},
     "output_type": "execute_result"
    }
   ],
   "source": [
    "joblib.dump(best_model, \"best_model.pkl\")"
   ]
  },
  {
   "cell_type": "code",
   "execution_count": null,
   "id": "388f115f-93a3-4bab-9c06-479eb9fe65e9",
   "metadata": {},
   "outputs": [],
   "source": []
  },
  {
   "cell_type": "code",
   "execution_count": null,
   "id": "ab7be32f-bace-4826-86ea-225014878798",
   "metadata": {},
   "outputs": [],
   "source": []
  },
  {
   "cell_type": "code",
   "execution_count": null,
   "id": "4d709c4a-a813-4a45-9a1f-2f1af1615e63",
   "metadata": {},
   "outputs": [],
   "source": []
  },
  {
   "cell_type": "code",
   "execution_count": null,
   "id": "dcfadff5-9a46-48e5-b317-bba0247d8625",
   "metadata": {},
   "outputs": [],
   "source": []
  },
  {
   "cell_type": "code",
   "execution_count": null,
   "id": "da19bda6-0bc3-479b-8da8-1b735e5bbc13",
   "metadata": {},
   "outputs": [],
   "source": []
  },
  {
   "cell_type": "code",
   "execution_count": null,
   "id": "6c6b6a2a-c9c1-4fb3-875f-308dfa798c6b",
   "metadata": {},
   "outputs": [],
   "source": []
  },
  {
   "cell_type": "code",
   "execution_count": null,
   "id": "bf1e403f-772c-4ecc-b0d2-176f1d29e07c",
   "metadata": {},
   "outputs": [],
   "source": []
  }
 ],
 "metadata": {
  "kernelspec": {
   "display_name": "Python 3 (ipykernel)",
   "language": "python",
   "name": "python3"
  },
  "language_info": {
   "codemirror_mode": {
    "name": "ipython",
    "version": 3
   },
   "file_extension": ".py",
   "mimetype": "text/x-python",
   "name": "python",
   "nbconvert_exporter": "python",
   "pygments_lexer": "ipython3",
   "version": "3.8.10"
  }
 },
 "nbformat": 4,
 "nbformat_minor": 5
}

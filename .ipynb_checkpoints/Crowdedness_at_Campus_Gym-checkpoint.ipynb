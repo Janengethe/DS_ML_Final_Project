{
 "cells": [
  {
   "cell_type": "markdown",
   "id": "4a2e2d89-6db1-483a-bb44-803a6b9942ed",
   "metadata": {},
   "source": [
    "<span style=\"font-size: 40px; color: Red\">Problem Statement</span>"
   ]
  },
  {
   "cell_type": "markdown",
   "id": "15485870-3883-46fa-9133-ad54a99dac30",
   "metadata": {},
   "source": [
    "\n",
    "## Problem Definition\n",
    "* The goal of this project is to develop a class attendance predictor for gym classes, leveraging historical attendance data and relevant features. The predictor will assist gym management in estimating the number of participants likely to attend a given class. By utilizing machine learning techniques, the project aims to provide accurate attendance predictions that can facilitate resource allocation, class scheduling, and overall gym operation optimization.\n"
   ]
  },
  {
   "cell_type": "markdown",
   "id": "013f61b9-923a-47aa-a778-473bf71551f5",
   "metadata": {},
   "source": [
    "## Data Source\n",
    "https://www.kaggle.com/datasets/nithilaa/fitness-analysis"
   ]
  },
  {
   "cell_type": "markdown",
   "id": "251f93ab-a20d-4eb4-bce1-a27e8c2ad544",
   "metadata": {},
   "source": [
    "<span style=\"font-size: 30px; color: Green\">Importing Libaries</span>"
   ]
  },
  {
   "cell_type": "code",
   "execution_count": 1,
   "id": "a5083a5c-6760-45f4-a7b3-b6d3709becf0",
   "metadata": {},
   "outputs": [],
   "source": [
    "import pandas as pd\n",
    "import numpy as np\n",
    "import matplotlib.pyplot as plt\n",
    "import plotly.express as px\n",
    "from sklearn.preprocessing import LabelEncoder, MinMaxScaler, PolynomialFeatures\n",
    "from sklearn.model_selection import train_test_split, GridSearchCV, RandomizedSearchCV, KFold\n",
    "from sklearn.linear_model import LinearRegression, Ridge, Lasso\n",
    "from sklearn.metrics import mean_absolute_error, mean_squared_error, r2_score\n",
    "from sklearn.svm import SVR\n",
    "from sklearn.tree import DecisionTreeRegressor\n",
    "from sklearn.ensemble import RandomForestRegressor\n",
    "\n",
    "import joblib"
   ]
  },
  {
   "cell_type": "markdown",
   "id": "8525ea79-74be-4ae4-8899-a596562b7f66",
   "metadata": {},
   "source": [
    "<span style=\"font-size: 30px; color: Green\">Loading the Dataset</span>"
   ]
  },
  {
   "cell_type": "code",
   "execution_count": 2,
   "id": "13c9ff54-36a8-480b-9353-4b4eb72cc16c",
   "metadata": {},
   "outputs": [],
   "source": [
    "df = pd.read_csv(\"Crowdedness_at_Campus_Gym.csv\")"
   ]
  },
  {
   "cell_type": "markdown",
   "id": "597a3334-8781-43d7-ac6a-57bd7bf95458",
   "metadata": {},
   "source": [
    "<span style=\"font-size: 30px; color: Green\">Data Preprocessing</span>"
   ]
  },
  {
   "cell_type": "markdown",
   "id": "d5f7839c-7763-4b7b-8e54-c292d05d3b02",
   "metadata": {},
   "source": [
    "### a). Data Inspection"
   ]
  },
  {
   "cell_type": "code",
   "execution_count": 3,
   "id": "8faf7e31-d3bc-467f-9b1e-9f4501efd27c",
   "metadata": {},
   "outputs": [
    {
     "data": {
      "text/html": [
       "<div>\n",
       "<style scoped>\n",
       "    .dataframe tbody tr th:only-of-type {\n",
       "        vertical-align: middle;\n",
       "    }\n",
       "\n",
       "    .dataframe tbody tr th {\n",
       "        vertical-align: top;\n",
       "    }\n",
       "\n",
       "    .dataframe thead th {\n",
       "        text-align: right;\n",
       "    }\n",
       "</style>\n",
       "<table border=\"1\" class=\"dataframe\">\n",
       "  <thead>\n",
       "    <tr style=\"text-align: right;\">\n",
       "      <th></th>\n",
       "      <th>number_people</th>\n",
       "      <th>date</th>\n",
       "      <th>timestamp</th>\n",
       "      <th>day_of_week</th>\n",
       "      <th>is_weekend</th>\n",
       "      <th>is_holiday</th>\n",
       "      <th>temperature</th>\n",
       "      <th>is_start_of_semester</th>\n",
       "      <th>is_during_semester</th>\n",
       "      <th>month</th>\n",
       "      <th>hour</th>\n",
       "    </tr>\n",
       "  </thead>\n",
       "  <tbody>\n",
       "    <tr>\n",
       "      <th>0</th>\n",
       "      <td>37</td>\n",
       "      <td>2015-08-14 17:00:11-07:00</td>\n",
       "      <td>61211</td>\n",
       "      <td>4</td>\n",
       "      <td>0</td>\n",
       "      <td>0</td>\n",
       "      <td>71.76</td>\n",
       "      <td>0</td>\n",
       "      <td>0</td>\n",
       "      <td>8</td>\n",
       "      <td>17</td>\n",
       "    </tr>\n",
       "    <tr>\n",
       "      <th>1</th>\n",
       "      <td>45</td>\n",
       "      <td>2015-08-14 17:20:14-07:00</td>\n",
       "      <td>62414</td>\n",
       "      <td>4</td>\n",
       "      <td>0</td>\n",
       "      <td>0</td>\n",
       "      <td>71.76</td>\n",
       "      <td>0</td>\n",
       "      <td>0</td>\n",
       "      <td>8</td>\n",
       "      <td>17</td>\n",
       "    </tr>\n",
       "    <tr>\n",
       "      <th>2</th>\n",
       "      <td>40</td>\n",
       "      <td>2015-08-14 17:30:15-07:00</td>\n",
       "      <td>63015</td>\n",
       "      <td>4</td>\n",
       "      <td>0</td>\n",
       "      <td>0</td>\n",
       "      <td>71.76</td>\n",
       "      <td>0</td>\n",
       "      <td>0</td>\n",
       "      <td>8</td>\n",
       "      <td>17</td>\n",
       "    </tr>\n",
       "  </tbody>\n",
       "</table>\n",
       "</div>"
      ],
      "text/plain": [
       "   number_people                       date  timestamp  day_of_week  \\\n",
       "0             37  2015-08-14 17:00:11-07:00      61211            4   \n",
       "1             45  2015-08-14 17:20:14-07:00      62414            4   \n",
       "2             40  2015-08-14 17:30:15-07:00      63015            4   \n",
       "\n",
       "   is_weekend  is_holiday  temperature  is_start_of_semester  \\\n",
       "0           0           0        71.76                     0   \n",
       "1           0           0        71.76                     0   \n",
       "2           0           0        71.76                     0   \n",
       "\n",
       "   is_during_semester  month  hour  \n",
       "0                   0      8    17  \n",
       "1                   0      8    17  \n",
       "2                   0      8    17  "
      ]
     },
     "execution_count": 3,
     "metadata": {},
     "output_type": "execute_result"
    }
   ],
   "source": [
    "df.head(3)"
   ]
  },
  {
   "cell_type": "code",
   "execution_count": 4,
   "id": "f8a29e79-65c3-4cc7-856a-83b0e47a43c5",
   "metadata": {},
   "outputs": [
    {
     "data": {
      "text/plain": [
       "(62184, 11)"
      ]
     },
     "execution_count": 4,
     "metadata": {},
     "output_type": "execute_result"
    }
   ],
   "source": [
    "# rows and columns( or no. of records)\n",
    "df.shape"
   ]
  },
  {
   "cell_type": "code",
   "execution_count": 5,
   "id": "b1f06fca-82bb-4601-ad0b-51cb3ce4a363",
   "metadata": {},
   "outputs": [
    {
     "data": {
      "image/png": "[encoded data removed]",
      "text/plain": [
       "<Figure size 1200x1000 with 12 Axes>"
      ]
     },
     "metadata": {},
     "output_type": "display_data"
    }
   ],
   "source": [
    "df.hist(figsize=(12, 10))\n",
    "plt.show()"
   ]
  },
  {
   "cell_type": "code",
   "execution_count": 6,
   "id": "1d624948-e734-45b5-aeeb-8cdddfa09e22",
   "metadata": {},
   "outputs": [
    {
     "name": "stdout",
     "output_type": "stream",
     "text": [
      "<class 'pandas.core.frame.DataFrame'>\n",
      "RangeIndex: 62184 entries, 0 to 62183\n",
      "Data columns (total 11 columns):\n",
      " #   Column                Non-Null Count  Dtype  \n",
      "---  ------                --------------  -----  \n",
      " 0   number_people         62184 non-null  int64  \n",
      " 1   date                  62184 non-null  object \n",
      " 2   timestamp             62184 non-null  int64  \n",
      " 3   day_of_week           62184 non-null  int64  \n",
      " 4   is_weekend            62184 non-null  int64  \n",
      " 5   is_holiday            62184 non-null  int64  \n",
      " 6   temperature           62184 non-null  float64\n",
      " 7   is_start_of_semester  62184 non-null  int64  \n",
      " 8   is_during_semester    62184 non-null  int64  \n",
      " 9   month                 62184 non-null  int64  \n",
      " 10  hour                  62184 non-null  int64  \n",
      "dtypes: float64(1), int64(9), object(1)\n",
      "memory usage: 5.2+ MB\n"
     ]
    }
   ],
   "source": [
    "df.info()"
   ]
  },
  {
   "cell_type": "code",
   "execution_count": 7,
   "id": "655ee8f3-1524-4da5-8a7a-0512fa757b4c",
   "metadata": {},
   "outputs": [
    {
     "data": {
      "text/html": [
       "<div>\n",
       "<style scoped>\n",
       "    .dataframe tbody tr th:only-of-type {\n",
       "        vertical-align: middle;\n",
       "    }\n",
       "\n",
       "    .dataframe tbody tr th {\n",
       "        vertical-align: top;\n",
       "    }\n",
       "\n",
       "    .dataframe thead th {\n",
       "        text-align: right;\n",
       "    }\n",
       "</style>\n",
       "<table border=\"1\" class=\"dataframe\">\n",
       "  <thead>\n",
       "    <tr style=\"text-align: right;\">\n",
       "      <th></th>\n",
       "      <th>number_people</th>\n",
       "      <th>timestamp</th>\n",
       "      <th>day_of_week</th>\n",
       "      <th>is_weekend</th>\n",
       "      <th>is_holiday</th>\n",
       "      <th>temperature</th>\n",
       "      <th>is_start_of_semester</th>\n",
       "      <th>is_during_semester</th>\n",
       "      <th>month</th>\n",
       "      <th>hour</th>\n",
       "    </tr>\n",
       "  </thead>\n",
       "  <tbody>\n",
       "    <tr>\n",
       "      <th>count</th>\n",
       "      <td>62184.000000</td>\n",
       "      <td>62184.000000</td>\n",
       "      <td>62184.000000</td>\n",
       "      <td>62184.000000</td>\n",
       "      <td>62184.000000</td>\n",
       "      <td>62184.000000</td>\n",
       "      <td>62184.000000</td>\n",
       "      <td>62184.000000</td>\n",
       "      <td>62184.000000</td>\n",
       "      <td>62184.000000</td>\n",
       "    </tr>\n",
       "    <tr>\n",
       "      <th>mean</th>\n",
       "      <td>29.072543</td>\n",
       "      <td>45799.437958</td>\n",
       "      <td>2.982504</td>\n",
       "      <td>0.282870</td>\n",
       "      <td>0.002573</td>\n",
       "      <td>58.557108</td>\n",
       "      <td>0.078831</td>\n",
       "      <td>0.660218</td>\n",
       "      <td>7.439824</td>\n",
       "      <td>12.236460</td>\n",
       "    </tr>\n",
       "    <tr>\n",
       "      <th>std</th>\n",
       "      <td>22.689026</td>\n",
       "      <td>24211.275891</td>\n",
       "      <td>1.996825</td>\n",
       "      <td>0.450398</td>\n",
       "      <td>0.050660</td>\n",
       "      <td>6.316396</td>\n",
       "      <td>0.269476</td>\n",
       "      <td>0.473639</td>\n",
       "      <td>3.445069</td>\n",
       "      <td>6.717631</td>\n",
       "    </tr>\n",
       "    <tr>\n",
       "      <th>min</th>\n",
       "      <td>0.000000</td>\n",
       "      <td>0.000000</td>\n",
       "      <td>0.000000</td>\n",
       "      <td>0.000000</td>\n",
       "      <td>0.000000</td>\n",
       "      <td>38.140000</td>\n",
       "      <td>0.000000</td>\n",
       "      <td>0.000000</td>\n",
       "      <td>1.000000</td>\n",
       "      <td>0.000000</td>\n",
       "    </tr>\n",
       "    <tr>\n",
       "      <th>25%</th>\n",
       "      <td>9.000000</td>\n",
       "      <td>26624.000000</td>\n",
       "      <td>1.000000</td>\n",
       "      <td>0.000000</td>\n",
       "      <td>0.000000</td>\n",
       "      <td>55.000000</td>\n",
       "      <td>0.000000</td>\n",
       "      <td>0.000000</td>\n",
       "      <td>5.000000</td>\n",
       "      <td>7.000000</td>\n",
       "    </tr>\n",
       "    <tr>\n",
       "      <th>50%</th>\n",
       "      <td>28.000000</td>\n",
       "      <td>46522.500000</td>\n",
       "      <td>3.000000</td>\n",
       "      <td>0.000000</td>\n",
       "      <td>0.000000</td>\n",
       "      <td>58.340000</td>\n",
       "      <td>0.000000</td>\n",
       "      <td>1.000000</td>\n",
       "      <td>8.000000</td>\n",
       "      <td>12.000000</td>\n",
       "    </tr>\n",
       "    <tr>\n",
       "      <th>75%</th>\n",
       "      <td>43.000000</td>\n",
       "      <td>66612.000000</td>\n",
       "      <td>5.000000</td>\n",
       "      <td>1.000000</td>\n",
       "      <td>0.000000</td>\n",
       "      <td>62.280000</td>\n",
       "      <td>0.000000</td>\n",
       "      <td>1.000000</td>\n",
       "      <td>10.000000</td>\n",
       "      <td>18.000000</td>\n",
       "    </tr>\n",
       "    <tr>\n",
       "      <th>max</th>\n",
       "      <td>145.000000</td>\n",
       "      <td>86399.000000</td>\n",
       "      <td>6.000000</td>\n",
       "      <td>1.000000</td>\n",
       "      <td>1.000000</td>\n",
       "      <td>87.170000</td>\n",
       "      <td>1.000000</td>\n",
       "      <td>1.000000</td>\n",
       "      <td>12.000000</td>\n",
       "      <td>23.000000</td>\n",
       "    </tr>\n",
       "  </tbody>\n",
       "</table>\n",
       "</div>"
      ],
      "text/plain": [
       "       number_people     timestamp   day_of_week    is_weekend    is_holiday  \\\n",
       "count   62184.000000  62184.000000  62184.000000  62184.000000  62184.000000   \n",
       "mean       29.072543  45799.437958      2.982504      0.282870      0.002573   \n",
       "std        22.689026  24211.275891      1.996825      0.450398      0.050660   \n",
       "min         0.000000      0.000000      0.000000      0.000000      0.000000   \n",
       "25%         9.000000  26624.000000      1.000000      0.000000      0.000000   \n",
       "50%        28.000000  46522.500000      3.000000      0.000000      0.000000   \n",
       "75%        43.000000  66612.000000      5.000000      1.000000      0.000000   \n",
       "max       145.000000  86399.000000      6.000000      1.000000      1.000000   \n",
       "\n",
       "        temperature  is_start_of_semester  is_during_semester         month  \\\n",
       "count  62184.000000          62184.000000        62184.000000  62184.000000   \n",
       "mean      58.557108              0.078831            0.660218      7.439824   \n",
       "std        6.316396              0.269476            0.473639      3.445069   \n",
       "min       38.140000              0.000000            0.000000      1.000000   \n",
       "25%       55.000000              0.000000            0.000000      5.000000   \n",
       "50%       58.340000              0.000000            1.000000      8.000000   \n",
       "75%       62.280000              0.000000            1.000000     10.000000   \n",
       "max       87.170000              1.000000            1.000000     12.000000   \n",
       "\n",
       "               hour  \n",
       "count  62184.000000  \n",
       "mean      12.236460  \n",
       "std        6.717631  \n",
       "min        0.000000  \n",
       "25%        7.000000  \n",
       "50%       12.000000  \n",
       "75%       18.000000  \n",
       "max       23.000000  "
      ]
     },
     "execution_count": 7,
     "metadata": {},
     "output_type": "execute_result"
    }
   ],
   "source": [
    "df.describe()"
   ]
  },
  {
   "cell_type": "markdown",
   "id": "165d7de9-6107-4a3e-b6ff-611777db2dc6",
   "metadata": {},
   "source": [
    "### b). Data Cleaning"
   ]
  },
  {
   "cell_type": "code",
   "execution_count": 8,
   "id": "c1914c4f-5adb-4649-9b6e-7aef679ff88f",
   "metadata": {},
   "outputs": [
    {
     "data": {
      "text/html": [
       "<div>\n",
       "<style scoped>\n",
       "    .dataframe tbody tr th:only-of-type {\n",
       "        vertical-align: middle;\n",
       "    }\n",
       "\n",
       "    .dataframe tbody tr th {\n",
       "        vertical-align: top;\n",
       "    }\n",
       "\n",
       "    .dataframe thead th {\n",
       "        text-align: right;\n",
       "    }\n",
       "</style>\n",
       "<table border=\"1\" class=\"dataframe\">\n",
       "  <thead>\n",
       "    <tr style=\"text-align: right;\">\n",
       "      <th></th>\n",
       "      <th>number_people</th>\n",
       "      <th>date</th>\n",
       "      <th>timestamp</th>\n",
       "      <th>day_of_week</th>\n",
       "      <th>is_weekend</th>\n",
       "      <th>is_holiday</th>\n",
       "      <th>temperature</th>\n",
       "      <th>is_start_of_semester</th>\n",
       "      <th>is_during_semester</th>\n",
       "      <th>month</th>\n",
       "      <th>hour</th>\n",
       "    </tr>\n",
       "  </thead>\n",
       "  <tbody>\n",
       "  </tbody>\n",
       "</table>\n",
       "</div>"
      ],
      "text/plain": [
       "Empty DataFrame\n",
       "Columns: [number_people, date, timestamp, day_of_week, is_weekend, is_holiday, temperature, is_start_of_semester, is_during_semester, month, hour]\n",
       "Index: []"
      ]
     },
     "execution_count": 8,
     "metadata": {},
     "output_type": "execute_result"
    }
   ],
   "source": [
    "# Checking for dublicate rows\n",
    "duplicate_rows = df[df.duplicated()]\n",
    "duplicate_rows"
   ]
  },
  {
   "cell_type": "code",
   "execution_count": 9,
   "id": "85a4f313-2416-4819-8b5a-d4f9ebe24573",
   "metadata": {},
   "outputs": [
    {
     "name": "stdout",
     "output_type": "stream",
     "text": [
      "<class 'pandas.core.frame.DataFrame'>\n",
      "RangeIndex: 62184 entries, 0 to 62183\n",
      "Data columns (total 11 columns):\n",
      " #   Column                Non-Null Count  Dtype  \n",
      "---  ------                --------------  -----  \n",
      " 0   number_people         62184 non-null  int64  \n",
      " 1   date                  62184 non-null  object \n",
      " 2   timestamp             62184 non-null  int64  \n",
      " 3   day_of_week           62184 non-null  int64  \n",
      " 4   is_weekend            62184 non-null  int64  \n",
      " 5   is_holiday            62184 non-null  int64  \n",
      " 6   temperature           62184 non-null  float64\n",
      " 7   is_start_of_semester  62184 non-null  int64  \n",
      " 8   is_during_semester    62184 non-null  int64  \n",
      " 9   month                 62184 non-null  int64  \n",
      " 10  hour                  62184 non-null  int64  \n",
      "dtypes: float64(1), int64(9), object(1)\n",
      "memory usage: 5.2+ MB\n"
     ]
    }
   ],
   "source": [
    "df.info()"
   ]
  },
  {
   "cell_type": "code",
   "execution_count": 10,
   "id": "b936fdf4-2e97-46b5-ace2-22a57c7a6d41",
   "metadata": {},
   "outputs": [
    {
     "data": {
      "text/html": [
       "<div>\n",
       "<style scoped>\n",
       "    .dataframe tbody tr th:only-of-type {\n",
       "        vertical-align: middle;\n",
       "    }\n",
       "\n",
       "    .dataframe tbody tr th {\n",
       "        vertical-align: top;\n",
       "    }\n",
       "\n",
       "    .dataframe thead th {\n",
       "        text-align: right;\n",
       "    }\n",
       "</style>\n",
       "<table border=\"1\" class=\"dataframe\">\n",
       "  <thead>\n",
       "    <tr style=\"text-align: right;\">\n",
       "      <th></th>\n",
       "      <th>number_people</th>\n",
       "      <th>date</th>\n",
       "      <th>timestamp</th>\n",
       "      <th>day_of_week</th>\n",
       "      <th>is_weekend</th>\n",
       "      <th>is_holiday</th>\n",
       "      <th>temperature</th>\n",
       "      <th>is_start_of_semester</th>\n",
       "      <th>is_during_semester</th>\n",
       "      <th>month</th>\n",
       "      <th>hour</th>\n",
       "    </tr>\n",
       "  </thead>\n",
       "  <tbody>\n",
       "    <tr>\n",
       "      <th>0</th>\n",
       "      <td>37</td>\n",
       "      <td>2015-08-14 17:00:11-07:00</td>\n",
       "      <td>61211</td>\n",
       "      <td>4</td>\n",
       "      <td>0</td>\n",
       "      <td>0</td>\n",
       "      <td>71.76</td>\n",
       "      <td>0</td>\n",
       "      <td>0</td>\n",
       "      <td>8</td>\n",
       "      <td>17</td>\n",
       "    </tr>\n",
       "    <tr>\n",
       "      <th>1</th>\n",
       "      <td>45</td>\n",
       "      <td>2015-08-14 17:20:14-07:00</td>\n",
       "      <td>62414</td>\n",
       "      <td>4</td>\n",
       "      <td>0</td>\n",
       "      <td>0</td>\n",
       "      <td>71.76</td>\n",
       "      <td>0</td>\n",
       "      <td>0</td>\n",
       "      <td>8</td>\n",
       "      <td>17</td>\n",
       "    </tr>\n",
       "  </tbody>\n",
       "</table>\n",
       "</div>"
      ],
      "text/plain": [
       "   number_people                       date  timestamp  day_of_week  \\\n",
       "0             37  2015-08-14 17:00:11-07:00      61211            4   \n",
       "1             45  2015-08-14 17:20:14-07:00      62414            4   \n",
       "\n",
       "   is_weekend  is_holiday  temperature  is_start_of_semester  \\\n",
       "0           0           0        71.76                     0   \n",
       "1           0           0        71.76                     0   \n",
       "\n",
       "   is_during_semester  month  hour  \n",
       "0                   0      8    17  \n",
       "1                   0      8    17  "
      ]
     },
     "execution_count": 10,
     "metadata": {},
     "output_type": "execute_result"
    }
   ],
   "source": [
    "df.head(2)"
   ]
  },
  {
   "cell_type": "markdown",
   "id": "b30e458b-16c5-4f9d-8262-dfdcaa8880a1",
   "metadata": {},
   "source": [
    "### C). Feature Engineering"
   ]
  },
  {
   "cell_type": "code",
   "execution_count": 4,
   "id": "9a48271b-a063-4e79-bc1b-17d6e81cc739",
   "metadata": {},
   "outputs": [],
   "source": [
    "# Column Year consisting of Year alone\n",
    "df['Year'] = df['date'].str[:4]\n",
    "\n",
    "# Column Date consisting of Date of the month alone\n",
    "df['Date'] = df['date'].str[8:11]\n",
    "\n",
    "# Column Time\n",
    "df['minutes'] = df['date'].str[14:-9]"
   ]
  },
  {
   "cell_type": "code",
   "execution_count": 5,
   "id": "dbd93d0a-b03f-471d-a092-3338c2c88530",
   "metadata": {},
   "outputs": [
    {
     "data": {
      "text/plain": [
       "array(['2015', '2016', '2017'], dtype=object)"
      ]
     },
     "execution_count": 5,
     "metadata": {},
     "output_type": "execute_result"
    }
   ],
   "source": [
    "df[\"Year\"].unique()"
   ]
  },
  {
   "cell_type": "code",
   "execution_count": 5,
   "id": "a1000def-c4a1-43fe-a79b-e858205586a9",
   "metadata": {},
   "outputs": [
    {
     "name": "stdout",
     "output_type": "stream",
     "text": [
      "<class 'pandas.core.frame.DataFrame'>\n",
      "RangeIndex: 62184 entries, 0 to 62183\n",
      "Data columns (total 14 columns):\n",
      " #   Column                Non-Null Count  Dtype  \n",
      "---  ------                --------------  -----  \n",
      " 0   number_people         62184 non-null  int64  \n",
      " 1   date                  62184 non-null  object \n",
      " 2   timestamp             62184 non-null  int64  \n",
      " 3   day_of_week           62184 non-null  int64  \n",
      " 4   is_weekend            62184 non-null  int64  \n",
      " 5   is_holiday            62184 non-null  int64  \n",
      " 6   temperature           62184 non-null  float64\n",
      " 7   is_start_of_semester  62184 non-null  int64  \n",
      " 8   is_during_semester    62184 non-null  int64  \n",
      " 9   month                 62184 non-null  int64  \n",
      " 10  hour                  62184 non-null  int64  \n",
      " 11  Year                  62184 non-null  object \n",
      " 12  Date                  62184 non-null  object \n",
      " 13  minutes               62184 non-null  object \n",
      "dtypes: float64(1), int64(9), object(4)\n",
      "memory usage: 6.6+ MB\n"
     ]
    }
   ],
   "source": [
    "df.info()"
   ]
  },
  {
   "cell_type": "code",
   "execution_count": 14,
   "id": "245c5030-cba8-4cf6-801e-0caee87a556d",
   "metadata": {},
   "outputs": [
    {
     "data": {
      "text/html": [
       "<div>\n",
       "<style scoped>\n",
       "    .dataframe tbody tr th:only-of-type {\n",
       "        vertical-align: middle;\n",
       "    }\n",
       "\n",
       "    .dataframe tbody tr th {\n",
       "        vertical-align: top;\n",
       "    }\n",
       "\n",
       "    .dataframe thead th {\n",
       "        text-align: right;\n",
       "    }\n",
       "</style>\n",
       "<table border=\"1\" class=\"dataframe\">\n",
       "  <thead>\n",
       "    <tr style=\"text-align: right;\">\n",
       "      <th></th>\n",
       "      <th>number_people</th>\n",
       "      <th>date</th>\n",
       "      <th>timestamp</th>\n",
       "      <th>day_of_week</th>\n",
       "      <th>is_weekend</th>\n",
       "      <th>is_holiday</th>\n",
       "      <th>temperature</th>\n",
       "      <th>is_start_of_semester</th>\n",
       "      <th>is_during_semester</th>\n",
       "      <th>month</th>\n",
       "      <th>hour</th>\n",
       "      <th>Year</th>\n",
       "      <th>Date</th>\n",
       "      <th>minutes</th>\n",
       "    </tr>\n",
       "  </thead>\n",
       "  <tbody>\n",
       "    <tr>\n",
       "      <th>0</th>\n",
       "      <td>37</td>\n",
       "      <td>2015-08-14 17:00:11-07:00</td>\n",
       "      <td>61211</td>\n",
       "      <td>4</td>\n",
       "      <td>0</td>\n",
       "      <td>0</td>\n",
       "      <td>71.76</td>\n",
       "      <td>0</td>\n",
       "      <td>0</td>\n",
       "      <td>8</td>\n",
       "      <td>17</td>\n",
       "      <td>2015</td>\n",
       "      <td>14</td>\n",
       "      <td>00</td>\n",
       "    </tr>\n",
       "    <tr>\n",
       "      <th>1</th>\n",
       "      <td>45</td>\n",
       "      <td>2015-08-14 17:20:14-07:00</td>\n",
       "      <td>62414</td>\n",
       "      <td>4</td>\n",
       "      <td>0</td>\n",
       "      <td>0</td>\n",
       "      <td>71.76</td>\n",
       "      <td>0</td>\n",
       "      <td>0</td>\n",
       "      <td>8</td>\n",
       "      <td>17</td>\n",
       "      <td>2015</td>\n",
       "      <td>14</td>\n",
       "      <td>20</td>\n",
       "    </tr>\n",
       "  </tbody>\n",
       "</table>\n",
       "</div>"
      ],
      "text/plain": [
       "   number_people                       date  timestamp  day_of_week  \\\n",
       "0             37  2015-08-14 17:00:11-07:00      61211            4   \n",
       "1             45  2015-08-14 17:20:14-07:00      62414            4   \n",
       "\n",
       "   is_weekend  is_holiday  temperature  is_start_of_semester  \\\n",
       "0           0           0        71.76                     0   \n",
       "1           0           0        71.76                     0   \n",
       "\n",
       "   is_during_semester  month  hour  Year Date minutes  \n",
       "0                   0      8    17  2015  14       00  \n",
       "1                   0      8    17  2015  14       20  "
      ]
     },
     "execution_count": 14,
     "metadata": {},
     "output_type": "execute_result"
    }
   ],
   "source": [
    "df.head(2)"
   ]
  },
  {
   "cell_type": "code",
   "execution_count": 6,
   "id": "56be5a15-dda0-43a0-b1ff-4ea00375e357",
   "metadata": {},
   "outputs": [],
   "source": [
    "# Drop columns\n",
    "df = df.drop(columns=[\"date\",\"timestamp\"], axis=1)"
   ]
  },
  {
   "cell_type": "code",
   "execution_count": 7,
   "id": "352996a4-1430-4c3f-a1d6-da95c907d2c8",
   "metadata": {},
   "outputs": [
    {
     "data": {
      "text/html": [
       "<div>\n",
       "<style scoped>\n",
       "    .dataframe tbody tr th:only-of-type {\n",
       "        vertical-align: middle;\n",
       "    }\n",
       "\n",
       "    .dataframe tbody tr th {\n",
       "        vertical-align: top;\n",
       "    }\n",
       "\n",
       "    .dataframe thead th {\n",
       "        text-align: right;\n",
       "    }\n",
       "</style>\n",
       "<table border=\"1\" class=\"dataframe\">\n",
       "  <thead>\n",
       "    <tr style=\"text-align: right;\">\n",
       "      <th></th>\n",
       "      <th>number_people</th>\n",
       "      <th>day_of_week</th>\n",
       "      <th>is_weekend</th>\n",
       "      <th>is_holiday</th>\n",
       "      <th>temperature</th>\n",
       "      <th>is_start_of_semester</th>\n",
       "      <th>is_during_semester</th>\n",
       "      <th>month</th>\n",
       "      <th>hour</th>\n",
       "      <th>Year</th>\n",
       "      <th>Date</th>\n",
       "      <th>minutes</th>\n",
       "    </tr>\n",
       "  </thead>\n",
       "  <tbody>\n",
       "    <tr>\n",
       "      <th>0</th>\n",
       "      <td>37</td>\n",
       "      <td>4</td>\n",
       "      <td>0</td>\n",
       "      <td>0</td>\n",
       "      <td>71.76</td>\n",
       "      <td>0</td>\n",
       "      <td>0</td>\n",
       "      <td>8</td>\n",
       "      <td>17</td>\n",
       "      <td>2015</td>\n",
       "      <td>14</td>\n",
       "      <td>00</td>\n",
       "    </tr>\n",
       "    <tr>\n",
       "      <th>1</th>\n",
       "      <td>45</td>\n",
       "      <td>4</td>\n",
       "      <td>0</td>\n",
       "      <td>0</td>\n",
       "      <td>71.76</td>\n",
       "      <td>0</td>\n",
       "      <td>0</td>\n",
       "      <td>8</td>\n",
       "      <td>17</td>\n",
       "      <td>2015</td>\n",
       "      <td>14</td>\n",
       "      <td>20</td>\n",
       "    </tr>\n",
       "  </tbody>\n",
       "</table>\n",
       "</div>"
      ],
      "text/plain": [
       "   number_people  day_of_week  is_weekend  is_holiday  temperature  \\\n",
       "0             37            4           0           0        71.76   \n",
       "1             45            4           0           0        71.76   \n",
       "\n",
       "   is_start_of_semester  is_during_semester  month  hour  Year Date minutes  \n",
       "0                     0                   0      8    17  2015  14       00  \n",
       "1                     0                   0      8    17  2015  14       20  "
      ]
     },
     "execution_count": 7,
     "metadata": {},
     "output_type": "execute_result"
    }
   ],
   "source": [
    "df.head(2)"
   ]
  },
  {
   "cell_type": "code",
   "execution_count": 7,
   "id": "ab957144-42b6-45f7-8475-ac8cb81ff881",
   "metadata": {},
   "outputs": [],
   "source": [
    "# Rearrange the columns\n",
    "columns = [\"Year\", \"month\", \"Date\", \"day_of_week\", \"hour\", \"minutes\", \"temperature\", \"is_weekend\", \"is_holiday\", \"is_start_of_semester\", \"is_during_semester\", \"number_people\"]\n",
    "df = df[columns]"
   ]
  },
  {
   "cell_type": "code",
   "execution_count": 8,
   "id": "273b4e0b-a2db-49e3-9405-3d3e1b5fc08e",
   "metadata": {},
   "outputs": [],
   "source": [
    "# Rename columns\n",
    "df.columns = [cols.capitalize() for cols in df.columns]"
   ]
  },
  {
   "cell_type": "code",
   "execution_count": 10,
   "id": "aeae4d8d-375d-4e86-9f38-51aa67aa54e7",
   "metadata": {},
   "outputs": [
    {
     "data": {
      "text/html": [
       "<div>\n",
       "<style scoped>\n",
       "    .dataframe tbody tr th:only-of-type {\n",
       "        vertical-align: middle;\n",
       "    }\n",
       "\n",
       "    .dataframe tbody tr th {\n",
       "        vertical-align: top;\n",
       "    }\n",
       "\n",
       "    .dataframe thead th {\n",
       "        text-align: right;\n",
       "    }\n",
       "</style>\n",
       "<table border=\"1\" class=\"dataframe\">\n",
       "  <thead>\n",
       "    <tr style=\"text-align: right;\">\n",
       "      <th></th>\n",
       "      <th>Year</th>\n",
       "      <th>Month</th>\n",
       "      <th>Date</th>\n",
       "      <th>Day_of_week</th>\n",
       "      <th>Hour</th>\n",
       "      <th>Minutes</th>\n",
       "      <th>Temperature</th>\n",
       "      <th>Is_weekend</th>\n",
       "      <th>Is_holiday</th>\n",
       "      <th>Is_start_of_semester</th>\n",
       "      <th>Is_during_semester</th>\n",
       "      <th>Number_people</th>\n",
       "    </tr>\n",
       "  </thead>\n",
       "  <tbody>\n",
       "    <tr>\n",
       "      <th>0</th>\n",
       "      <td>2015</td>\n",
       "      <td>8</td>\n",
       "      <td>14</td>\n",
       "      <td>4</td>\n",
       "      <td>17</td>\n",
       "      <td>00</td>\n",
       "      <td>71.76</td>\n",
       "      <td>0</td>\n",
       "      <td>0</td>\n",
       "      <td>0</td>\n",
       "      <td>0</td>\n",
       "      <td>37</td>\n",
       "    </tr>\n",
       "    <tr>\n",
       "      <th>1</th>\n",
       "      <td>2015</td>\n",
       "      <td>8</td>\n",
       "      <td>14</td>\n",
       "      <td>4</td>\n",
       "      <td>17</td>\n",
       "      <td>20</td>\n",
       "      <td>71.76</td>\n",
       "      <td>0</td>\n",
       "      <td>0</td>\n",
       "      <td>0</td>\n",
       "      <td>0</td>\n",
       "      <td>45</td>\n",
       "    </tr>\n",
       "  </tbody>\n",
       "</table>\n",
       "</div>"
      ],
      "text/plain": [
       "   Year  Month Date  Day_of_week  Hour Minutes  Temperature  Is_weekend  \\\n",
       "0  2015      8  14             4    17      00        71.76           0   \n",
       "1  2015      8  14             4    17      20        71.76           0   \n",
       "\n",
       "   Is_holiday  Is_start_of_semester  Is_during_semester  Number_people  \n",
       "0           0                     0                   0             37  \n",
       "1           0                     0                   0             45  "
      ]
     },
     "execution_count": 10,
     "metadata": {},
     "output_type": "execute_result"
    }
   ],
   "source": [
    "df.head(2)"
   ]
  },
  {
   "cell_type": "code",
   "execution_count": 9,
   "id": "0a57baa1-03a2-444f-8c53-6ace477a3ea4",
   "metadata": {},
   "outputs": [
    {
     "data": {
      "text/plain": [
       "(62184, 12)"
      ]
     },
     "execution_count": 9,
     "metadata": {},
     "output_type": "execute_result"
    }
   ],
   "source": [
    "df.shape"
   ]
  },
  {
   "cell_type": "code",
   "execution_count": 12,
   "id": "1a52b3b0-a989-4bb5-8329-0239cf612c0a",
   "metadata": {},
   "outputs": [
    {
     "name": "stdout",
     "output_type": "stream",
     "text": [
      "<class 'pandas.core.frame.DataFrame'>\n",
      "RangeIndex: 62184 entries, 0 to 62183\n",
      "Data columns (total 12 columns):\n",
      " #   Column                Non-Null Count  Dtype  \n",
      "---  ------                --------------  -----  \n",
      " 0   Year                  62184 non-null  object \n",
      " 1   Month                 62184 non-null  int64  \n",
      " 2   Date                  62184 non-null  object \n",
      " 3   Day_of_week           62184 non-null  int64  \n",
      " 4   Hour                  62184 non-null  int64  \n",
      " 5   Minutes               62184 non-null  object \n",
      " 6   Temperature           62184 non-null  float64\n",
      " 7   Is_weekend            62184 non-null  int64  \n",
      " 8   Is_holiday            62184 non-null  int64  \n",
      " 9   Is_start_of_semester  62184 non-null  int64  \n",
      " 10  Is_during_semester    62184 non-null  int64  \n",
      " 11  Number_people         62184 non-null  int64  \n",
      "dtypes: float64(1), int64(8), object(3)\n",
      "memory usage: 5.7+ MB\n"
     ]
    }
   ],
   "source": [
    "df.info()"
   ]
  },
  {
   "cell_type": "markdown",
   "id": "24de34bf-2be0-44cd-a066-a3e6d5153db5",
   "metadata": {},
   "source": [
    "<span style=\"font-size: 30px; color: Green\">Encode categorical variables</span>"
   ]
  },
  {
   "cell_type": "code",
   "execution_count": 22,
   "id": "b452a744-c5b6-4e22-98ef-1ce690f296c4",
   "metadata": {},
   "outputs": [],
   "source": [
    "# label encoding for year, since this column has an ordinal r/ship(In order)\n",
    "# label_encoder = LabelEncoder()\n",
    "# df[\"Year\"] = label_encoder.fit_transform(df[\"Year\"])"
   ]
  },
  {
   "cell_type": "code",
   "execution_count": 10,
   "id": "3c429d66-5c7d-41aa-b3ca-74d268093d16",
   "metadata": {},
   "outputs": [],
   "source": [
    "# Converting Date and Minutes columns as int datatype\n",
    "df[\"Date\"] = df[\"Date\"].astype(int)\n",
    "df[\"Minutes\"] = df[\"Minutes\"].astype(int)\n",
    "df[\"Year\"] = df[\"Year\"].astype(int)"
   ]
  },
  {
   "cell_type": "code",
   "execution_count": 14,
   "id": "6745e550-ac76-4428-b7a4-3d8d4918701d",
   "metadata": {},
   "outputs": [
    {
     "name": "stdout",
     "output_type": "stream",
     "text": [
      "<class 'pandas.core.frame.DataFrame'>\n",
      "RangeIndex: 62184 entries, 0 to 62183\n",
      "Data columns (total 12 columns):\n",
      " #   Column                Non-Null Count  Dtype  \n",
      "---  ------                --------------  -----  \n",
      " 0   Year                  62184 non-null  int64  \n",
      " 1   Month                 62184 non-null  int64  \n",
      " 2   Date                  62184 non-null  int64  \n",
      " 3   Day_of_week           62184 non-null  int64  \n",
      " 4   Hour                  62184 non-null  int64  \n",
      " 5   Minutes               62184 non-null  int64  \n",
      " 6   Temperature           62184 non-null  float64\n",
      " 7   Is_weekend            62184 non-null  int64  \n",
      " 8   Is_holiday            62184 non-null  int64  \n",
      " 9   Is_start_of_semester  62184 non-null  int64  \n",
      " 10  Is_during_semester    62184 non-null  int64  \n",
      " 11  Number_people         62184 non-null  int64  \n",
      "dtypes: float64(1), int64(11)\n",
      "memory usage: 5.7 MB\n"
     ]
    }
   ],
   "source": [
    "df.info()"
   ]
  },
  {
   "cell_type": "code",
   "execution_count": 11,
   "id": "73cff5d0-bea8-4482-997e-3baf3bd3f7a3",
   "metadata": {},
   "outputs": [
    {
     "data": {
      "text/plain": [
       "(13569, 12)"
      ]
     },
     "execution_count": 11,
     "metadata": {},
     "output_type": "execute_result"
    }
   ],
   "source": [
    "df_2015 = df[(df[\"Year\"] == 2015)]\n",
    "df_2015.shape"
   ]
  },
  {
   "cell_type": "code",
   "execution_count": 14,
   "id": "5218dcf6-0e62-4995-ab9d-260f0d5d5992",
   "metadata": {},
   "outputs": [
    {
     "data": {
      "text/plain": [
       "(45547, 12)"
      ]
     },
     "execution_count": 14,
     "metadata": {},
     "output_type": "execute_result"
    }
   ],
   "source": [
    "df_2016 = df[(df[\"Year\"] == 2016)]\n",
    "df_2016.shape"
   ]
  },
  {
   "cell_type": "code",
   "execution_count": 15,
   "id": "bdf3b8e5-abde-4695-92c2-aa9d5aaeb44a",
   "metadata": {},
   "outputs": [
    {
     "data": {
      "text/plain": [
       "(3068, 12)"
      ]
     },
     "execution_count": 15,
     "metadata": {},
     "output_type": "execute_result"
    }
   ],
   "source": [
    "df_2017 = df[(df[\"Year\"] == 2017)]\n",
    "df_2017.shape"
   ]
  },
  {
   "cell_type": "code",
   "execution_count": 16,
   "id": "36ac4aa1-6a87-4c3b-9946-0227c2328519",
   "metadata": {},
   "outputs": [],
   "source": [
    "df_2017.to_csv(\"newdf.csv\", index=False)"
   ]
  },
  {
   "cell_type": "code",
   "execution_count": null,
   "id": "96b57cfe-d5c9-4db5-bc17-1e369d34b2bc",
   "metadata": {},
   "outputs": [],
   "source": []
  },
  {
   "cell_type": "code",
   "execution_count": 17,
   "id": "e5e45162-dee3-4665-a4c7-edef09e01bda",
   "metadata": {},
   "outputs": [
    {
     "data": {
      "text/html": [
       "<div>\n",
       "<style scoped>\n",
       "    .dataframe tbody tr th:only-of-type {\n",
       "        vertical-align: middle;\n",
       "    }\n",
       "\n",
       "    .dataframe tbody tr th {\n",
       "        vertical-align: top;\n",
       "    }\n",
       "\n",
       "    .dataframe thead th {\n",
       "        text-align: right;\n",
       "    }\n",
       "</style>\n",
       "<table border=\"1\" class=\"dataframe\">\n",
       "  <thead>\n",
       "    <tr style=\"text-align: right;\">\n",
       "      <th></th>\n",
       "      <th>Year</th>\n",
       "      <th>Month</th>\n",
       "      <th>Date</th>\n",
       "      <th>Day_of_week</th>\n",
       "      <th>Hour</th>\n",
       "      <th>Minutes</th>\n",
       "      <th>Temperature</th>\n",
       "      <th>Is_weekend</th>\n",
       "      <th>Is_holiday</th>\n",
       "      <th>Is_start_of_semester</th>\n",
       "      <th>Is_during_semester</th>\n",
       "      <th>Number_people</th>\n",
       "    </tr>\n",
       "  </thead>\n",
       "  <tbody>\n",
       "    <tr>\n",
       "      <th>0</th>\n",
       "      <td>2017</td>\n",
       "      <td>1</td>\n",
       "      <td>1</td>\n",
       "      <td>6</td>\n",
       "      <td>0</td>\n",
       "      <td>1</td>\n",
       "      <td>48.37</td>\n",
       "      <td>1</td>\n",
       "      <td>0</td>\n",
       "      <td>0</td>\n",
       "      <td>0</td>\n",
       "      <td>0</td>\n",
       "    </tr>\n",
       "    <tr>\n",
       "      <th>1</th>\n",
       "      <td>2017</td>\n",
       "      <td>1</td>\n",
       "      <td>1</td>\n",
       "      <td>6</td>\n",
       "      <td>0</td>\n",
       "      <td>11</td>\n",
       "      <td>48.37</td>\n",
       "      <td>1</td>\n",
       "      <td>0</td>\n",
       "      <td>0</td>\n",
       "      <td>0</td>\n",
       "      <td>0</td>\n",
       "    </tr>\n",
       "  </tbody>\n",
       "</table>\n",
       "</div>"
      ],
      "text/plain": [
       "   Year  Month  Date  Day_of_week  Hour  Minutes  Temperature  Is_weekend  \\\n",
       "0  2017      1     1            6     0        1        48.37           1   \n",
       "1  2017      1     1            6     0       11        48.37           1   \n",
       "\n",
       "   Is_holiday  Is_start_of_semester  Is_during_semester  Number_people  \n",
       "0           0                     0                   0              0  \n",
       "1           0                     0                   0              0  "
      ]
     },
     "execution_count": 17,
     "metadata": {},
     "output_type": "execute_result"
    }
   ],
   "source": [
    "# reload\n",
    "df = pd.read_csv(\"newdf.csv\")\n",
    "df.head(2)"
   ]
  },
  {
   "cell_type": "code",
   "execution_count": 18,
   "id": "16ee77dd-f3c4-4881-8da2-a26d9309f3e7",
   "metadata": {},
   "outputs": [
    {
     "name": "stdout",
     "output_type": "stream",
     "text": [
      "<class 'pandas.core.frame.DataFrame'>\n",
      "RangeIndex: 3068 entries, 0 to 3067\n",
      "Data columns (total 12 columns):\n",
      " #   Column                Non-Null Count  Dtype  \n",
      "---  ------                --------------  -----  \n",
      " 0   Year                  3068 non-null   int64  \n",
      " 1   Month                 3068 non-null   int64  \n",
      " 2   Date                  3068 non-null   int64  \n",
      " 3   Day_of_week           3068 non-null   int64  \n",
      " 4   Hour                  3068 non-null   int64  \n",
      " 5   Minutes               3068 non-null   int64  \n",
      " 6   Temperature           3068 non-null   float64\n",
      " 7   Is_weekend            3068 non-null   int64  \n",
      " 8   Is_holiday            3068 non-null   int64  \n",
      " 9   Is_start_of_semester  3068 non-null   int64  \n",
      " 10  Is_during_semester    3068 non-null   int64  \n",
      " 11  Number_people         3068 non-null   int64  \n",
      "dtypes: float64(1), int64(11)\n",
      "memory usage: 287.8 KB\n"
     ]
    }
   ],
   "source": [
    "df.info()"
   ]
  },
  {
   "cell_type": "code",
   "execution_count": 19,
   "id": "824d157c-1220-4fe0-9f2c-e7066c7a6b39",
   "metadata": {},
   "outputs": [],
   "source": [
    "features = df.drop(columns=[\"Number_people\"])\n",
    "target = df[\"Number_people\"]"
   ]
  },
  {
   "cell_type": "markdown",
   "id": "640095e4-ca86-46ac-a529-7670739e7286",
   "metadata": {},
   "source": [
    "<span style=\"font-size: 30px; color: Green\">Data Scaling and Normalization</span>"
   ]
  },
  {
   "cell_type": "code",
   "execution_count": 20,
   "id": "95d8faf8-5ad2-4ad0-810d-77ca9a678717",
   "metadata": {},
   "outputs": [],
   "source": [
    "# Using Normalization since the data have outliers\n",
    "# Normalizing all the columns except the target column\n",
    "scaler = MinMaxScaler()\n",
    "scaled_features = scaler.fit_transform(features)\n",
    "scaled_features_df = pd.DataFrame(scaled_features, columns=features.columns)"
   ]
  },
  {
   "cell_type": "code",
   "execution_count": 21,
   "id": "6c389af4-d724-45e9-abca-6dcbda242036",
   "metadata": {},
   "outputs": [],
   "source": [
    "# Concatenate the scaled features with the target column\n",
    "final_df = pd.concat([scaled_features_df, target], axis=1)"
   ]
  },
  {
   "cell_type": "code",
   "execution_count": 22,
   "id": "f0576ed4-afa9-4453-bb2d-bcbd1cf9454a",
   "metadata": {},
   "outputs": [
    {
     "data": {
      "text/html": [
       "<div>\n",
       "<style scoped>\n",
       "    .dataframe tbody tr th:only-of-type {\n",
       "        vertical-align: middle;\n",
       "    }\n",
       "\n",
       "    .dataframe tbody tr th {\n",
       "        vertical-align: top;\n",
       "    }\n",
       "\n",
       "    .dataframe thead th {\n",
       "        text-align: right;\n",
       "    }\n",
       "</style>\n",
       "<table border=\"1\" class=\"dataframe\">\n",
       "  <thead>\n",
       "    <tr style=\"text-align: right;\">\n",
       "      <th></th>\n",
       "      <th>Year</th>\n",
       "      <th>Month</th>\n",
       "      <th>Date</th>\n",
       "      <th>Day_of_week</th>\n",
       "      <th>Hour</th>\n",
       "      <th>Minutes</th>\n",
       "      <th>Temperature</th>\n",
       "      <th>Is_weekend</th>\n",
       "      <th>Is_holiday</th>\n",
       "      <th>Is_start_of_semester</th>\n",
       "      <th>Is_during_semester</th>\n",
       "      <th>Number_people</th>\n",
       "    </tr>\n",
       "  </thead>\n",
       "  <tbody>\n",
       "    <tr>\n",
       "      <th>0</th>\n",
       "      <td>0.0</td>\n",
       "      <td>0.0</td>\n",
       "      <td>0.0</td>\n",
       "      <td>1.0</td>\n",
       "      <td>0.0</td>\n",
       "      <td>0.016949</td>\n",
       "      <td>0.215356</td>\n",
       "      <td>1.0</td>\n",
       "      <td>0.0</td>\n",
       "      <td>0.0</td>\n",
       "      <td>0.0</td>\n",
       "      <td>0</td>\n",
       "    </tr>\n",
       "    <tr>\n",
       "      <th>1</th>\n",
       "      <td>0.0</td>\n",
       "      <td>0.0</td>\n",
       "      <td>0.0</td>\n",
       "      <td>1.0</td>\n",
       "      <td>0.0</td>\n",
       "      <td>0.186441</td>\n",
       "      <td>0.215356</td>\n",
       "      <td>1.0</td>\n",
       "      <td>0.0</td>\n",
       "      <td>0.0</td>\n",
       "      <td>0.0</td>\n",
       "      <td>0</td>\n",
       "    </tr>\n",
       "  </tbody>\n",
       "</table>\n",
       "</div>"
      ],
      "text/plain": [
       "   Year  Month  Date  Day_of_week  Hour   Minutes  Temperature  Is_weekend  \\\n",
       "0   0.0    0.0   0.0          1.0   0.0  0.016949     0.215356         1.0   \n",
       "1   0.0    0.0   0.0          1.0   0.0  0.186441     0.215356         1.0   \n",
       "\n",
       "   Is_holiday  Is_start_of_semester  Is_during_semester  Number_people  \n",
       "0         0.0                   0.0                 0.0              0  \n",
       "1         0.0                   0.0                 0.0              0  "
      ]
     },
     "execution_count": 22,
     "metadata": {},
     "output_type": "execute_result"
    }
   ],
   "source": [
    "final_df.head(2)"
   ]
  },
  {
   "cell_type": "code",
   "execution_count": 23,
   "id": "8ba1422d-daab-472a-a35e-6ef2390851b6",
   "metadata": {},
   "outputs": [
    {
     "name": "stdout",
     "output_type": "stream",
     "text": [
      "<class 'pandas.core.frame.DataFrame'>\n",
      "RangeIndex: 3068 entries, 0 to 3067\n",
      "Data columns (total 12 columns):\n",
      " #   Column                Non-Null Count  Dtype  \n",
      "---  ------                --------------  -----  \n",
      " 0   Year                  3068 non-null   float64\n",
      " 1   Month                 3068 non-null   float64\n",
      " 2   Date                  3068 non-null   float64\n",
      " 3   Day_of_week           3068 non-null   float64\n",
      " 4   Hour                  3068 non-null   float64\n",
      " 5   Minutes               3068 non-null   float64\n",
      " 6   Temperature           3068 non-null   float64\n",
      " 7   Is_weekend            3068 non-null   float64\n",
      " 8   Is_holiday            3068 non-null   float64\n",
      " 9   Is_start_of_semester  3068 non-null   float64\n",
      " 10  Is_during_semester    3068 non-null   float64\n",
      " 11  Number_people         3068 non-null   int64  \n",
      "dtypes: float64(11), int64(1)\n",
      "memory usage: 287.8 KB\n"
     ]
    }
   ],
   "source": [
    "final_df.info()"
   ]
  },
  {
   "cell_type": "code",
   "execution_count": 24,
   "id": "3bdfea15-f5eb-47c0-9a37-5478ba2d2978",
   "metadata": {},
   "outputs": [
    {
     "data": {
      "text/plain": [
       "array([ 0,  1,  2,  3,  5,  6,  7, 12, 13, 19, 10, 16,  9,  8, 11, 14, 15,\n",
       "       18, 17, 20, 22, 30, 21, 25, 29, 24, 28,  4, 23, 34, 32, 41, 27, 38,\n",
       "       33, 42, 31, 35, 26, 36, 37, 40, 45, 47, 39, 53, 50, 43, 52, 51, 44,\n",
       "       46, 48, 55, 79, 54, 49, 88, 66, 58, 64])"
      ]
     },
     "execution_count": 24,
     "metadata": {},
     "output_type": "execute_result"
    }
   ],
   "source": [
    "final_df[\"Number_people\"].unique()"
   ]
  },
  {
   "cell_type": "code",
   "execution_count": 25,
   "id": "9f02e6ac-ac63-44e0-a2e0-524efb353203",
   "metadata": {},
   "outputs": [],
   "source": [
    "final_df.to_csv(\"final_df.csv\", index=False)"
   ]
  },
  {
   "cell_type": "markdown",
   "id": "f294bb6a-9c37-4a07-8940-820afa8c8aca",
   "metadata": {},
   "source": [
    "<span style=\"font-size: 30px; color: Green\">Reload the Dataset</span>"
   ]
  },
  {
   "cell_type": "code",
   "execution_count": 2,
   "id": "b3f29052-a1bf-4134-b6b4-fbcc19cca40b",
   "metadata": {},
   "outputs": [
    {
     "data": {
      "text/html": [
       "<div>\n",
       "<style scoped>\n",
       "    .dataframe tbody tr th:only-of-type {\n",
       "        vertical-align: middle;\n",
       "    }\n",
       "\n",
       "    .dataframe tbody tr th {\n",
       "        vertical-align: top;\n",
       "    }\n",
       "\n",
       "    .dataframe thead th {\n",
       "        text-align: right;\n",
       "    }\n",
       "</style>\n",
       "<table border=\"1\" class=\"dataframe\">\n",
       "  <thead>\n",
       "    <tr style=\"text-align: right;\">\n",
       "      <th></th>\n",
       "      <th>Year</th>\n",
       "      <th>Month</th>\n",
       "      <th>Date</th>\n",
       "      <th>Day_of_week</th>\n",
       "      <th>Hour</th>\n",
       "      <th>Minutes</th>\n",
       "      <th>Temperature</th>\n",
       "      <th>Is_weekend</th>\n",
       "      <th>Is_holiday</th>\n",
       "      <th>Is_start_of_semester</th>\n",
       "      <th>Is_during_semester</th>\n",
       "      <th>Number_people</th>\n",
       "    </tr>\n",
       "  </thead>\n",
       "  <tbody>\n",
       "    <tr>\n",
       "      <th>0</th>\n",
       "      <td>0.0</td>\n",
       "      <td>0.0</td>\n",
       "      <td>0.0</td>\n",
       "      <td>1.0</td>\n",
       "      <td>0.0</td>\n",
       "      <td>0.016949</td>\n",
       "      <td>0.215356</td>\n",
       "      <td>1.0</td>\n",
       "      <td>0.0</td>\n",
       "      <td>0.0</td>\n",
       "      <td>0.0</td>\n",
       "      <td>0</td>\n",
       "    </tr>\n",
       "    <tr>\n",
       "      <th>1</th>\n",
       "      <td>0.0</td>\n",
       "      <td>0.0</td>\n",
       "      <td>0.0</td>\n",
       "      <td>1.0</td>\n",
       "      <td>0.0</td>\n",
       "      <td>0.186441</td>\n",
       "      <td>0.215356</td>\n",
       "      <td>1.0</td>\n",
       "      <td>0.0</td>\n",
       "      <td>0.0</td>\n",
       "      <td>0.0</td>\n",
       "      <td>0</td>\n",
       "    </tr>\n",
       "  </tbody>\n",
       "</table>\n",
       "</div>"
      ],
      "text/plain": [
       "   Year  Month  Date  Day_of_week  Hour   Minutes  Temperature  Is_weekend  \\\n",
       "0   0.0    0.0   0.0          1.0   0.0  0.016949     0.215356         1.0   \n",
       "1   0.0    0.0   0.0          1.0   0.0  0.186441     0.215356         1.0   \n",
       "\n",
       "   Is_holiday  Is_start_of_semester  Is_during_semester  Number_people  \n",
       "0         0.0                   0.0                 0.0              0  \n",
       "1         0.0                   0.0                 0.0              0  "
      ]
     },
     "execution_count": 2,
     "metadata": {},
     "output_type": "execute_result"
    }
   ],
   "source": [
    "df = pd.read_csv(\"final_df.csv\")\n",
    "df.head(2)"
   ]
  },
  {
   "cell_type": "code",
   "execution_count": 4,
   "id": "8d4b86ae-4989-49c1-8a8e-9dfee9b0c3c7",
   "metadata": {},
   "outputs": [],
   "source": [
    "df = df.drop([\"Year\"], axis=1)"
   ]
  },
  {
   "cell_type": "code",
   "execution_count": 3,
   "id": "9b178eee-9488-424d-a3b5-8e239672f7bd",
   "metadata": {},
   "outputs": [],
   "source": [
    "df = df.drop([\"Day_of_week\"], axis=1)"
   ]
  },
  {
   "cell_type": "markdown",
   "id": "f00c8427-be75-469c-a48d-f665db64ae44",
   "metadata": {},
   "source": [
    "<span style=\"font-size: 30px; color: Green\">Data Splitting</span>"
   ]
  },
  {
   "cell_type": "code",
   "execution_count": 5,
   "id": "65265223-495d-4fb0-a096-e5bddfb58e8d",
   "metadata": {},
   "outputs": [],
   "source": [
    "# Training and Testing data\n",
    "X = df.drop([\"Number_people\"], axis=1)\n",
    "\n",
    "# Target column\n",
    "y = df[\"Number_people\"]"
   ]
  },
  {
   "cell_type": "code",
   "execution_count": 6,
   "id": "f8fc775b-7e41-4df8-b309-60c842be11ef",
   "metadata": {},
   "outputs": [],
   "source": [
    "# Splitting\n",
    "X_train, X_test, y_train, y_test = train_test_split(X, y, test_size=0.2, random_state=42)"
   ]
  },
  {
   "cell_type": "code",
   "execution_count": 60,
   "id": "6a1e81eb-e8c9-43bd-8c81-72e0908b34ea",
   "metadata": {},
   "outputs": [],
   "source": [
    "# Furter split for validation and testing data\n",
    "# X_valid, X_test, y_valid, y_test = train_test_split(X_test, y_test, test_size=0.4, random_state=42)"
   ]
  },
  {
   "cell_type": "markdown",
   "id": "34ed76cb-fd26-4edc-b575-92147416d007",
   "metadata": {},
   "source": [
    "<span style=\"font-size: 30px; color: Green\">Model Selection and Training</span>"
   ]
  },
  {
   "cell_type": "markdown",
   "id": "ecec61a4-3c95-43b3-9736-1cbd350ecb80",
   "metadata": {},
   "source": [
    "## Simple Linear Regression"
   ]
  },
  {
   "cell_type": "code",
   "execution_count": 35,
   "id": "caa2608a-c1c2-4eb2-8427-b39e5e686e44",
   "metadata": {},
   "outputs": [],
   "source": [
    "# Simple Linear Regression on Day_of_week\n",
    "X_train_ind_var = X_train[\"Temperature\"].values.reshape(-1, 1)\n",
    "X_test_ind_var = X_test[\"Temperature\"].values.reshape(-1, 1)\n",
    "\n",
    "# fit model on training data\n",
    "slr_model = LinearRegression()\n",
    "slr_model.fit(X_train_ind_var, y_train)\n",
    "\n",
    "# predict on testing data\n",
    "slr_y_pred = slr_model.predict(X_test_ind_var)"
   ]
  },
  {
   "cell_type": "markdown",
   "id": "ba0157c9-be9d-4a84-bf02-603f325b5af1",
   "metadata": {},
   "source": [
    "### SLR Model evaluation"
   ]
  },
  {
   "cell_type": "code",
   "execution_count": 36,
   "id": "bcc6904f-4cb7-44c0-b27d-eac88ab0f134",
   "metadata": {},
   "outputs": [
    {
     "name": "stdout",
     "output_type": "stream",
     "text": [
      "Mean Squared Error(MSE): 183.05421757873057\n",
      "Mean Absolute Error(MAE): 11.770466089207309\n",
      "R2_Score(R-Squared Score): 0.16871390928757235\n"
     ]
    }
   ],
   "source": [
    "print(f\"Mean Squared Error(MSE): {mean_squared_error(y_test, slr_y_pred)}\")\n",
    "print(f\"Mean Absolute Error(MAE): {mean_absolute_error(y_test, slr_y_pred)}\")\n",
    "print(f\"R2_Score(R-Squared Score): {r2_score(y_test, slr_y_pred)}\")"
   ]
  },
  {
   "cell_type": "code",
   "execution_count": 37,
   "id": "366be604-63bf-4a66-9781-0d8df231757d",
   "metadata": {},
   "outputs": [
    {
     "name": "stdout",
     "output_type": "stream",
     "text": [
      "Mean Squared Error(MSE): 183.05421757873057\n",
      "Mean Absolute Error(MAE): 11.770466089207309\n",
      "R2_Score(R-Squared Score): 0.16871390928757235\n"
     ]
    }
   ],
   "source": [
    "# Simple Linear Regression on Temperature\n",
    "X_train_ind_var = X_train[\"Temperature\"].values.reshape(-1, 1)\n",
    "X_test_ind_var = X_test[\"Temperature\"].values.reshape(-1, 1)\n",
    "\n",
    "# fit model on training data\n",
    "slr_model = LinearRegression()\n",
    "slr_model.fit(X_train_ind_var, y_train)\n",
    "\n",
    "# predict on testing data\n",
    "slr_y_pred = slr_model.predict(X_test_ind_var)\n",
    "\n",
    "print(f\"Mean Squared Error(MSE): {mean_squared_error(y_test, slr_y_pred)}\")\n",
    "print(f\"Mean Absolute Error(MAE): {mean_absolute_error(y_test, slr_y_pred)}\")\n",
    "print(f\"R2_Score(R-Squared Score): {r2_score(y_test, slr_y_pred)}\")"
   ]
  },
  {
   "cell_type": "code",
   "execution_count": 38,
   "id": "34812a93-3ec7-4a41-9522-c28da6688f79",
   "metadata": {},
   "outputs": [
    {
     "name": "stdout",
     "output_type": "stream",
     "text": [
      "Mean Squared Error(MSE): 150.5596790312184\n",
      "Mean Absolute Error(MAE): 10.01883797111018\n",
      "R2_Score(R-Squared Score): 0.31627815706049167\n"
     ]
    }
   ],
   "source": [
    "# Simple Linear Regression on Hour\n",
    "X_train_ind_var = X_train[\"Hour\"].values.reshape(-1, 1)\n",
    "X_test_ind_var = X_test[\"Hour\"].values.reshape(-1, 1)\n",
    "\n",
    "# fit model on training data\n",
    "slr_model = LinearRegression()\n",
    "slr_model.fit(X_train_ind_var, y_train)\n",
    "\n",
    "# predict on testing data\n",
    "slr_y_pred = slr_model.predict(X_test_ind_var)\n",
    "\n",
    "print(f\"Mean Squared Error(MSE): {mean_squared_error(y_test, slr_y_pred)}\")\n",
    "print(f\"Mean Absolute Error(MAE): {mean_absolute_error(y_test, slr_y_pred)}\")\n",
    "print(f\"R2_Score(R-Squared Score): {r2_score(y_test, slr_y_pred)}\")"
   ]
  },
  {
   "cell_type": "markdown",
   "id": "bf820c69-650d-4e70-93dc-73f0ef1e3307",
   "metadata": {},
   "source": [
    "## Multiple Linear Regression"
   ]
  },
  {
   "cell_type": "code",
   "execution_count": 39,
   "id": "10ddf8da-5726-4d7f-af99-d63dca36640b",
   "metadata": {},
   "outputs": [],
   "source": [
    "mlr_model = LinearRegression()\n",
    "\n",
    "# fit the model on training data\n",
    "mlr_model.fit(X_train, y_train)\n",
    "\n",
    "# Predict on testing data\n",
    "mlr_y_pred = mlr_model.predict(X_test)"
   ]
  },
  {
   "cell_type": "markdown",
   "id": "6efff7ce-c164-404e-a7a5-ed43763c54b4",
   "metadata": {},
   "source": [
    "### MLR Model Evaluation"
   ]
  },
  {
   "cell_type": "code",
   "execution_count": 40,
   "id": "2b5305bc-b5d7-4022-a4a1-db5a4c538eb0",
   "metadata": {},
   "outputs": [
    {
     "name": "stdout",
     "output_type": "stream",
     "text": [
      "Mean Squared Error(MSE): 81.19595518223387\n",
      "Mean Absolute Error(MAE): 6.8339297652836075\n",
      "R2_Score(R-Squared Score): 0.6312728050853535\n"
     ]
    }
   ],
   "source": [
    "print(f\"Mean Squared Error(MSE): {mean_squared_error(y_test, mlr_y_pred)}\")\n",
    "print(f\"Mean Absolute Error(MAE): {mean_absolute_error(y_test, mlr_y_pred)}\")\n",
    "print(f\"R2_Score(R-Squared Score): {r2_score(y_test, mlr_y_pred)}\")"
   ]
  },
  {
   "cell_type": "markdown",
   "id": "fbc16fb7-76b4-4908-aef3-a76461ad6e05",
   "metadata": {},
   "source": [
    "## Polynomial Regression"
   ]
  },
  {
   "cell_type": "code",
   "execution_count": 41,
   "id": "7f8434bc-2dd3-4ff8-86ca-c2cc2e2a77a5",
   "metadata": {},
   "outputs": [],
   "source": [
    "poly_ft = PolynomialFeatures()\n",
    "\n",
    "# Transform input features to poly features\n",
    "X_train_poly = poly_ft.fit_transform(X_train)\n",
    "X_test_poly = poly_ft.transform(X_test)\n",
    "\n",
    "# fit on Linear regression model\n",
    "lr_model = LinearRegression()\n",
    "lr_model.fit(X_train_poly, y_train)\n",
    "\n",
    "# predict on testing data\n",
    "poly_y_pred = lr_model.predict(X_test_poly)"
   ]
  },
  {
   "cell_type": "markdown",
   "id": "80b3c5bb-a0f8-43a9-bdb4-15563d03bb80",
   "metadata": {},
   "source": [
    "### PR Model Evaluation"
   ]
  },
  {
   "cell_type": "code",
   "execution_count": 42,
   "id": "4b5066ab-0b88-43f3-bc4c-4997d36bbc59",
   "metadata": {},
   "outputs": [
    {
     "name": "stdout",
     "output_type": "stream",
     "text": [
      "Mean Squared Error(MSE): 54.961760801300834\n",
      "Mean Absolute Error(MAE): 5.472596682632396\n",
      "R2_Score(R-Squared Score): 0.7504075684269096\n"
     ]
    }
   ],
   "source": [
    "print(f\"Mean Squared Error(MSE): {mean_squared_error(y_test, poly_y_pred)}\")\n",
    "print(f\"Mean Absolute Error(MAE): {mean_absolute_error(y_test, poly_y_pred)}\")\n",
    "print(f\"R2_Score(R-Squared Score): {r2_score(y_test, poly_y_pred)}\")"
   ]
  },
  {
   "cell_type": "markdown",
   "id": "15f29c30-a68c-4884-9dec-b9b2909c1240",
   "metadata": {},
   "source": [
    "## Ridge regression (L2 regularization)"
   ]
  },
  {
   "cell_type": "code",
   "execution_count": 43,
   "id": "f60ce15d-93b4-463b-b713-9d15cdba032a",
   "metadata": {},
   "outputs": [],
   "source": [
    "ridge = Ridge()\n",
    "# fit the model on training data\n",
    "ridge.fit(X_train, y_train)\n",
    "# predict the model on testing data\n",
    "y_ridge_pred = ridge.predict(X_test)"
   ]
  },
  {
   "cell_type": "markdown",
   "id": "1a29ef76-32ef-443a-bfc5-d8502eb2637b",
   "metadata": {},
   "source": [
    "### L2 Model Evaluation"
   ]
  },
  {
   "cell_type": "code",
   "execution_count": 44,
   "id": "f87a8b2a-7488-4ea9-a969-6163bccb366a",
   "metadata": {},
   "outputs": [
    {
     "name": "stdout",
     "output_type": "stream",
     "text": [
      "Mean Squared Error(MSE): 81.50570455858802\n",
      "Mean Absolute Error(MAE): 6.849116593023612\n",
      "R2_Score(R-Squared Score): 0.6298661707473094\n"
     ]
    }
   ],
   "source": [
    "print(f\"Mean Squared Error(MSE): {mean_squared_error(y_test, y_ridge_pred)}\")\n",
    "print(f\"Mean Absolute Error(MAE): {mean_absolute_error(y_test, y_ridge_pred)}\")\n",
    "print(f\"R2_Score(R-Squared Score): {r2_score(y_test, y_ridge_pred)}\")"
   ]
  },
  {
   "cell_type": "markdown",
   "id": "a76fd102-417e-4197-9ed0-18e41d5d0da8",
   "metadata": {},
   "source": [
    "## Lasso Regression(L1 regularization)"
   ]
  },
  {
   "cell_type": "code",
   "execution_count": 45,
   "id": "435344cc-a2c1-4e2f-96e4-f01516b618f3",
   "metadata": {},
   "outputs": [],
   "source": [
    "lasso = Lasso()\n",
    "# fit the model on training data\n",
    "lasso.fit(X_train, y_train)\n",
    "# predict the model on testing data\n",
    "y_lasso_pred = lasso.predict(X_test)"
   ]
  },
  {
   "cell_type": "markdown",
   "id": "6cf41f30-41d0-4963-b5cd-ea0149eb2b04",
   "metadata": {},
   "source": [
    "### L1 Model Evaluation"
   ]
  },
  {
   "cell_type": "code",
   "execution_count": 46,
   "id": "aee3e542-68aa-4dec-9bc3-6da49a5abe20",
   "metadata": {},
   "outputs": [
    {
     "name": "stdout",
     "output_type": "stream",
     "text": [
      "Mean Squared Error(MSE): 115.3937315763826\n",
      "Mean Absolute Error(MAE): 8.873775544732963\n",
      "R2_Score(R-Squared Score): 0.4759738110180748\n"
     ]
    }
   ],
   "source": [
    "print(f\"Mean Squared Error(MSE): {mean_squared_error(y_test, y_lasso_pred)}\")\n",
    "print(f\"Mean Absolute Error(MAE): {mean_absolute_error(y_test, y_lasso_pred)}\")\n",
    "print(f\"R2_Score(R-Squared Score): {r2_score(y_test, y_lasso_pred)}\")"
   ]
  },
  {
   "cell_type": "markdown",
   "id": "6cb93093-5b1c-43b9-b4de-d1959cd7a772",
   "metadata": {},
   "source": [
    "## Support Vector Regression (SVR)"
   ]
  },
  {
   "cell_type": "code",
   "execution_count": 47,
   "id": "5bf9116a-48dd-4812-bafe-03a87236ca11",
   "metadata": {},
   "outputs": [
    {
     "name": "stdout",
     "output_type": "stream",
     "text": [
      "Mean Squared Error(MSE): 66.19676157990219\n",
      "Mean Absolute Error(MAE): 5.983007561568739\n",
      "R2_Score(R-Squared Score): 0.6993871658383828\n"
     ]
    }
   ],
   "source": [
    "svr = SVR()\n",
    "# fit the model on training data\n",
    "svr.fit(X_train, y_train)\n",
    "# predict the model on testing data\n",
    "y_svr_pred = svr.predict(X_test)\n",
    "\n",
    "# model evaluation\n",
    "print(f\"Mean Squared Error(MSE): {mean_squared_error(y_test, y_svr_pred)}\")\n",
    "print(f\"Mean Absolute Error(MAE): {mean_absolute_error(y_test, y_svr_pred)}\")\n",
    "print(f\"R2_Score(R-Squared Score): {r2_score(y_test, y_svr_pred)}\")"
   ]
  },
  {
   "cell_type": "markdown",
   "id": "cca742c3-7ed1-4344-ae9b-d33c74629e66",
   "metadata": {},
   "source": [
    "## Decision Tree Regression"
   ]
  },
  {
   "cell_type": "code",
   "execution_count": 48,
   "id": "80057194-cbb9-463d-8b2e-99915bd6a162",
   "metadata": {},
   "outputs": [
    {
     "name": "stdout",
     "output_type": "stream",
     "text": [
      "Mean Squared Error(MSE): 34.4771986970684\n",
      "Mean Absolute Error(MAE): 3.8420195439739415\n",
      "R2_Score(R-Squared Score): 0.8434320929465888\n"
     ]
    }
   ],
   "source": [
    "dtree = DecisionTreeRegressor()\n",
    "\n",
    "# fit the model on training data\n",
    "dtree.fit(X_train, y_train)\n",
    "\n",
    "# predict the model on testing data\n",
    "y_dtree_pred = dtree.predict(X_test)\n",
    "\n",
    "# model evaluation\n",
    "print(f\"Mean Squared Error(MSE): {mean_squared_error(y_test, y_dtree_pred)}\")\n",
    "print(f\"Mean Absolute Error(MAE): {mean_absolute_error(y_test, y_dtree_pred)}\")\n",
    "print(f\"R2_Score(R-Squared Score): {r2_score(y_test, y_dtree_pred)}\")"
   ]
  },
  {
   "cell_type": "markdown",
   "id": "29aa03b9-fd10-4369-a53d-9b6f90c82070",
   "metadata": {},
   "source": [
    "## Random Forest Regression"
   ]
  },
  {
   "cell_type": "code",
   "execution_count": 56,
   "id": "d3aeb767-62d4-45a2-8836-6f854dc49964",
   "metadata": {},
   "outputs": [
    {
     "name": "stdout",
     "output_type": "stream",
     "text": [
      "Mean Squared Error(MSE): 22.897928032520326\n",
      "Mean Absolute Error(MAE): 3.131886178861789\n",
      "R2_Score(R-Squared Score): 0.8943509438740419\n"
     ]
    }
   ],
   "source": [
    "rfr = RandomForestRegressor()\n",
    "# fit the model on training data\n",
    "rfr.fit(X_train, y_train)\n",
    "# predict on testing data\n",
    "y_rfr_pred = rfr.predict(X_test)\n",
    "\n",
    "# model evaluation\n",
    "print(f\"Mean Squared Error(MSE): {mean_squared_error(y_test, y_rfr_pred)}\")\n",
    "print(f\"Mean Absolute Error(MAE): {mean_absolute_error(y_test, y_rfr_pred)}\")\n",
    "print(f\"R2_Score(R-Squared Score): {r2_score(y_test, y_rfr_pred)}\")"
   ]
  },
  {
   "cell_type": "markdown",
   "id": "4dab8d89-99da-4c82-93c8-45bf5b494ed7",
   "metadata": {},
   "source": [
    "<span style=\"font-size: 30px; color: Green\">Model Validation and Tuning</span>"
   ]
  },
  {
   "cell_type": "markdown",
   "id": "db78f24f-3cca-49d7-8f4d-8acf1149e376",
   "metadata": {},
   "source": [
    "### Random Forest Regression- Grid Search"
   ]
  },
  {
   "cell_type": "code",
   "execution_count": 50,
   "id": "6f179e59-7b27-4f38-9cca-b7af8d53c524",
   "metadata": {},
   "outputs": [
    {
     "name": "stdout",
     "output_type": "stream",
     "text": [
      "Best Hyperparameters: {'max_depth': 20, 'min_samples_leaf': 2, 'min_samples_split': 2, 'n_estimators': 100}\n",
      "Best Mean Squared Error (MSE): 26.118002825111745\n",
      "Mean Squared Error(MSE) on Test Data: 22.747189234073037\n",
      "Mean Absolute Error(MAE): 3.1546595735452\n",
      "R2_Score(R-Squared Score): 0.8967004297240212\n"
     ]
    }
   ],
   "source": [
    "# Hyperparameters\n",
    "param_grid = {\n",
    "    'n_estimators': [50, 100, 200],\n",
    "    'max_depth': [None, 5, 10, 20],\n",
    "    'min_samples_split': [2, 5, 10],\n",
    "    'min_samples_leaf': [1, 2, 4],\n",
    "}\n",
    "# Cross-Validation\n",
    "cv = KFold(n_splits=5, shuffle=True, random_state=42)\n",
    "# Model\n",
    "model = RandomForestRegressor()\n",
    "# Grid Search Object\n",
    "grid_search = GridSearchCV(estimator=model, param_grid=param_grid, cv=cv, scoring='neg_mean_squared_error')\n",
    "# Fit on Training Data\n",
    "grid_search.fit(X_train, y_train)\n",
    "# best hyperparameters and best score\n",
    "best_params = grid_search.best_params_\n",
    "best_score = -grid_search.best_score_ \n",
    "# Best model\n",
    "best_model = grid_search.best_estimator_\n",
    "\n",
    "# Predict on the test set using the best model\n",
    "y_pred = best_model.predict(X_test)\n",
    "\n",
    "# Evaluate the model's performance on the test set\n",
    "print(f\"Best Hyperparameters: {best_params}\")\n",
    "print(f\"Best Mean Squared Error (MSE): {best_score}\")\n",
    "print(f\"Mean Squared Error(MSE) on Test Data: {mean_squared_error(y_test, y_pred)}\")\n",
    "print(f\"Mean Absolute Error(MAE): {mean_absolute_error(y_test, y_pred)}\")\n",
    "print(f\"R2_Score(R-Squared Score): {r2_score(y_test, y_pred)}\")"
   ]
  },
  {
   "cell_type": "markdown",
   "id": "61ed0a4c-813f-4de9-bb80-ec3ea22c1771",
   "metadata": {},
   "source": [
    "### Random Forest Regression Randomized Search"
   ]
  },
  {
   "cell_type": "code",
   "execution_count": 8,
   "id": "61da4d2e-9df1-417e-8651-4fc4eb31ef3e",
   "metadata": {},
   "outputs": [
    {
     "name": "stdout",
     "output_type": "stream",
     "text": [
      "Best Hyperparameters: {'n_estimators': 300, 'min_samples_split': 2, 'min_samples_leaf': 2, 'max_depth': 20, 'bootstrap': True}\n",
      "Best Mean Squared Error (MSE): 25.930170400265915\n",
      "Mean Squared Error (MSE) on Test Data: 22.436447378001887\n",
      "R2_Score(R-Squared Score): 0.8981115711124625\n"
     ]
    }
   ],
   "source": [
    "# Hyperparameters\n",
    "param_dist = {\n",
    "    'n_estimators': [100, 200, 300, 400],\n",
    "    'max_depth': [None, 10, 20, 30],\n",
    "    'min_samples_split': [2, 5, 10],\n",
    "    'min_samples_leaf': [1, 2, 4],\n",
    "    'bootstrap': [True, False]\n",
    "}\n",
    "# Cross-Validation\n",
    "cv = KFold(n_splits=5, shuffle=True, random_state=42)\n",
    "# Model\n",
    "model = RandomForestRegressor()\n",
    "# RRandomized Search Object\n",
    "random_search = RandomizedSearchCV(estimator=model, param_distributions=param_dist, n_iter=100, scoring='neg_mean_squared_error', cv=cv, random_state=42)\n",
    "# Fit on Training Data\n",
    "random_search.fit(X_train, y_train)\n",
    "# best hyperparameters and best score\n",
    "best_params = random_search.best_params_\n",
    "best_score = -random_search.best_score_ \n",
    "# Best model\n",
    "best_model = random_search.best_estimator_\n",
    "\n",
    "# Predict on the test set using the best model\n",
    "y_pred = best_model.predict(X_test)\n",
    "\n",
    "# Evaluate the model's performance on the test set\n",
    "mse = mean_squared_error(y_test, y_pred)\n",
    "print(f\"Best Hyperparameters: {best_params}\")\n",
    "print(f\"Best Mean Squared Error (MSE): {best_score}\")\n",
    "print(f\"Mean Squared Error (MSE) on Test Data: {mse}\")\n",
    "print(f\"R2_Score(R-Squared Score): {r2_score(y_test, y_pred)}\")"
   ]
  },
  {
   "cell_type": "markdown",
   "id": "da6c680a-899c-4c74-b8a5-b67017f0f0e1",
   "metadata": {},
   "source": [
    "<span style=\"font-size: 30px; color: Green\">Model Evaluation</span>"
   ]
  },
  {
   "cell_type": "code",
   "execution_count": 10,
   "id": "23f7a4dc-e35c-481c-8df9-96e1d43a293f",
   "metadata": {},
   "outputs": [
    {
     "name": "stdout",
     "output_type": "stream",
     "text": [
      "Mean Squared Error(MSE): 22.428496077580313\n",
      "Mean Absolute Error(MAE): 3.145954514073352\n",
      "R2_Score(R-Squared Score): 0.8981476795700057\n"
     ]
    }
   ],
   "source": [
    "# From Grid Search\n",
    "# # Best Hyperparameters: {'max_depth': 20, 'min_samples_leaf': 1, 'min_samples_split': 2, 'n_estimators': 200}\n",
    "# best_model = RandomForestRegressor(n_estimators=100, min_samples_split=2, min_samples_leaf=2, max_depth=20)\n",
    "# # Fit the model on training data\n",
    "# best_model.fit(X_train, y_train)\n",
    "\n",
    "# # Make predictions on the test set\n",
    "# y_pred = best_model.predict(X_valid)\n",
    "\n",
    "# # Evaluation on validation data\n",
    "# mse = mean_squared_error(y_valid, y_pred)\n",
    "\n",
    "# y_pred_test = best_model.predict(X_test)\n",
    "\n",
    "# # Calculate evaluation metrics on the test set\n",
    "# mse_test = mean_squared_error(y_test, y_pred_test)\n",
    "# mae_test = mean_absolute_error(y_test, y_pred_test)\n",
    "# r2_test = r2_score(y_test, y_pred_test)\n",
    "\n",
    "# print(f\"Mean Squared Error (MSE) on Test Set: {mse_test}\")\n",
    "# print(f\"Mean Absolute Error (MAE) on Test Set: {mae_test}\")\n",
    "# print(f\"R-squared (R2) on Test Set: {r2_test}\")\n",
    "\n",
    "\n",
    "\n",
    "best_model = RandomForestRegressor(n_estimators=300, min_samples_split=2, min_samples_leaf=2, max_depth=20)\n",
    "# Fit the model on training data\n",
    "best_model.fit(X_train, y_train)\n",
    "\n",
    "# Make predictions on the test set\n",
    "y_pred = best_model.predict(X_test)\n",
    "\n",
    "# Evaluation scores\n",
    "print(f\"Mean Squared Error(MSE): {mean_squared_error(y_test, y_pred)}\")\n",
    "print(f\"Mean Absolute Error(MAE): {mean_absolute_error(y_test, y_pred)}\")\n",
    "print(f\"R2_Score(R-Squared Score): {r2_score(y_test, y_pred)}\")\n"
   ]
  },
  {
   "cell_type": "code",
   "execution_count": 11,
   "id": "2ed30ed3-b83e-473a-90cb-3e5a82bfeae1",
   "metadata": {},
   "outputs": [
    {
     "data": {
      "text/plain": [
       "['best_model.pkl']"
      ]
     },
     "execution_count": 11,
     "metadata": {},
     "output_type": "execute_result"
    }
   ],
   "source": [
    "joblib.dump(best_model, \"best_model.pkl\")"
   ]
  },
  {
   "cell_type": "code",
   "execution_count": null,
   "id": "388f115f-93a3-4bab-9c06-479eb9fe65e9",
   "metadata": {},
   "outputs": [],
   "source": []
  },
  {
   "cell_type": "code",
   "execution_count": null,
   "id": "ab7be32f-bace-4826-86ea-225014878798",
   "metadata": {},
   "outputs": [],
   "source": []
  },
  {
   "cell_type": "code",
   "execution_count": null,
   "id": "4d709c4a-a813-4a45-9a1f-2f1af1615e63",
   "metadata": {},
   "outputs": [],
   "source": []
  },
  {
   "cell_type": "code",
   "execution_count": null,
   "id": "dcfadff5-9a46-48e5-b317-bba0247d8625",
   "metadata": {},
   "outputs": [],
   "source": []
  },
  {
   "cell_type": "code",
   "execution_count": null,
   "id": "da19bda6-0bc3-479b-8da8-1b735e5bbc13",
   "metadata": {},
   "outputs": [],
   "source": []
  },
  {
   "cell_type": "code",
   "execution_count": null,
   "id": "6c6b6a2a-c9c1-4fb3-875f-308dfa798c6b",
   "metadata": {},
   "outputs": [],
   "source": []
  },
  {
   "cell_type": "code",
   "execution_count": null,
   "id": "bf1e403f-772c-4ecc-b0d2-176f1d29e07c",
   "metadata": {},
   "outputs": [],
   "source": []
  }
 ],
 "metadata": {
  "kernelspec": {
   "display_name": "Python 3 (ipykernel)",
   "language": "python",
   "name": "python3"
  },
  "language_info": {
   "codemirror_mode": {
    "name": "ipython",
    "version": 3
   },
   "file_extension": ".py",
   "mimetype": "text/x-python",
   "name": "python",
   "nbconvert_exporter": "python",
   "pygments_lexer": "ipython3",
   "version": "3.8.10"
  }
 },
 "nbformat": 4,
 "nbformat_minor": 5
}
